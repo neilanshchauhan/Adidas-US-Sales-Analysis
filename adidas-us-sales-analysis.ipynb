{
 "cells": [
  {
   "cell_type": "code",
   "execution_count": 1,
   "id": "c85d07a8",
   "metadata": {
    "_cell_guid": "b1076dfc-b9ad-4769-8c92-a6c4dae69d19",
    "_uuid": "8f2839f25d086af736a60e9eeb907d3b93b6e0e5",
    "execution": {
     "iopub.execute_input": "2025-01-11T12:35:56.952818Z",
     "iopub.status.busy": "2025-01-11T12:35:56.952352Z",
     "iopub.status.idle": "2025-01-11T12:35:58.944174Z",
     "shell.execute_reply": "2025-01-11T12:35:58.943000Z"
    },
    "papermill": {
     "duration": 2.005791,
     "end_time": "2025-01-11T12:35:58.946217",
     "exception": false,
     "start_time": "2025-01-11T12:35:56.940426",
     "status": "completed"
    },
    "tags": []
   },
   "outputs": [],
   "source": [
    "import numpy as np\n",
    "import pandas as pd\n",
    "import matplotlib.pyplot as plt\n",
    "import seaborn as sns"
   ]
  },
  {
   "cell_type": "code",
   "execution_count": 2,
   "id": "5fcd05be",
   "metadata": {
    "execution": {
     "iopub.execute_input": "2025-01-11T12:35:58.966978Z",
     "iopub.status.busy": "2025-01-11T12:35:58.966473Z",
     "iopub.status.idle": "2025-01-11T12:36:02.075194Z",
     "shell.execute_reply": "2025-01-11T12:36:02.074122Z"
    },
    "papermill": {
     "duration": 3.120746,
     "end_time": "2025-01-11T12:36:02.076999",
     "exception": false,
     "start_time": "2025-01-11T12:35:58.956253",
     "status": "completed"
    },
    "tags": []
   },
   "outputs": [
    {
     "data": {
      "text/html": [
       "<div>\n",
       "<style scoped>\n",
       "    .dataframe tbody tr th:only-of-type {\n",
       "        vertical-align: middle;\n",
       "    }\n",
       "\n",
       "    .dataframe tbody tr th {\n",
       "        vertical-align: top;\n",
       "    }\n",
       "\n",
       "    .dataframe thead th {\n",
       "        text-align: right;\n",
       "    }\n",
       "</style>\n",
       "<table border=\"1\" class=\"dataframe\">\n",
       "  <thead>\n",
       "    <tr style=\"text-align: right;\">\n",
       "      <th></th>\n",
       "      <th>Retailer</th>\n",
       "      <th>Retailer ID</th>\n",
       "      <th>Invoice Date</th>\n",
       "      <th>Region</th>\n",
       "      <th>State</th>\n",
       "      <th>City</th>\n",
       "      <th>Product</th>\n",
       "      <th>Price per Unit</th>\n",
       "      <th>Units Sold</th>\n",
       "      <th>Total Sales</th>\n",
       "      <th>Operating Profit</th>\n",
       "      <th>Operating Margin</th>\n",
       "      <th>Sales Method</th>\n",
       "    </tr>\n",
       "  </thead>\n",
       "  <tbody>\n",
       "    <tr>\n",
       "      <th>0</th>\n",
       "      <td>Foot Locker</td>\n",
       "      <td>1185732</td>\n",
       "      <td>2020-01-01</td>\n",
       "      <td>Northeast</td>\n",
       "      <td>New York</td>\n",
       "      <td>New York</td>\n",
       "      <td>Men's Street Footwear</td>\n",
       "      <td>50.0</td>\n",
       "      <td>1200</td>\n",
       "      <td>600000.0</td>\n",
       "      <td>300000.0</td>\n",
       "      <td>0.50</td>\n",
       "      <td>In-store</td>\n",
       "    </tr>\n",
       "    <tr>\n",
       "      <th>1</th>\n",
       "      <td>Foot Locker</td>\n",
       "      <td>1185732</td>\n",
       "      <td>2020-01-02</td>\n",
       "      <td>Northeast</td>\n",
       "      <td>New York</td>\n",
       "      <td>New York</td>\n",
       "      <td>Men's Athletic Footwear</td>\n",
       "      <td>50.0</td>\n",
       "      <td>1000</td>\n",
       "      <td>500000.0</td>\n",
       "      <td>150000.0</td>\n",
       "      <td>0.30</td>\n",
       "      <td>In-store</td>\n",
       "    </tr>\n",
       "    <tr>\n",
       "      <th>2</th>\n",
       "      <td>Foot Locker</td>\n",
       "      <td>1185732</td>\n",
       "      <td>2020-01-03</td>\n",
       "      <td>Northeast</td>\n",
       "      <td>New York</td>\n",
       "      <td>New York</td>\n",
       "      <td>Women's Street Footwear</td>\n",
       "      <td>40.0</td>\n",
       "      <td>1000</td>\n",
       "      <td>400000.0</td>\n",
       "      <td>140000.0</td>\n",
       "      <td>0.35</td>\n",
       "      <td>In-store</td>\n",
       "    </tr>\n",
       "    <tr>\n",
       "      <th>3</th>\n",
       "      <td>Foot Locker</td>\n",
       "      <td>1185732</td>\n",
       "      <td>2020-01-04</td>\n",
       "      <td>Northeast</td>\n",
       "      <td>New York</td>\n",
       "      <td>New York</td>\n",
       "      <td>Women's Athletic Footwear</td>\n",
       "      <td>45.0</td>\n",
       "      <td>850</td>\n",
       "      <td>382500.0</td>\n",
       "      <td>133875.0</td>\n",
       "      <td>0.35</td>\n",
       "      <td>In-store</td>\n",
       "    </tr>\n",
       "    <tr>\n",
       "      <th>4</th>\n",
       "      <td>Foot Locker</td>\n",
       "      <td>1185732</td>\n",
       "      <td>2020-01-05</td>\n",
       "      <td>Northeast</td>\n",
       "      <td>New York</td>\n",
       "      <td>New York</td>\n",
       "      <td>Men's Apparel</td>\n",
       "      <td>60.0</td>\n",
       "      <td>900</td>\n",
       "      <td>540000.0</td>\n",
       "      <td>162000.0</td>\n",
       "      <td>0.30</td>\n",
       "      <td>In-store</td>\n",
       "    </tr>\n",
       "  </tbody>\n",
       "</table>\n",
       "</div>"
      ],
      "text/plain": [
       "      Retailer  Retailer ID Invoice Date     Region     State      City  \\\n",
       "0  Foot Locker      1185732   2020-01-01  Northeast  New York  New York   \n",
       "1  Foot Locker      1185732   2020-01-02  Northeast  New York  New York   \n",
       "2  Foot Locker      1185732   2020-01-03  Northeast  New York  New York   \n",
       "3  Foot Locker      1185732   2020-01-04  Northeast  New York  New York   \n",
       "4  Foot Locker      1185732   2020-01-05  Northeast  New York  New York   \n",
       "\n",
       "                     Product  Price per Unit  Units Sold  Total Sales  \\\n",
       "0      Men's Street Footwear            50.0        1200     600000.0   \n",
       "1    Men's Athletic Footwear            50.0        1000     500000.0   \n",
       "2    Women's Street Footwear            40.0        1000     400000.0   \n",
       "3  Women's Athletic Footwear            45.0         850     382500.0   \n",
       "4              Men's Apparel            60.0         900     540000.0   \n",
       "\n",
       "   Operating Profit  Operating Margin Sales Method  \n",
       "0          300000.0              0.50     In-store  \n",
       "1          150000.0              0.30     In-store  \n",
       "2          140000.0              0.35     In-store  \n",
       "3          133875.0              0.35     In-store  \n",
       "4          162000.0              0.30     In-store  "
      ]
     },
     "execution_count": 2,
     "metadata": {},
     "output_type": "execute_result"
    }
   ],
   "source": [
    "df = pd.read_excel(\"/kaggle/input/adidas-us-sales-dataset/Adidas US Sales Datasets.xlsx\")\n",
    "df.head()"
   ]
  },
  {
   "cell_type": "code",
   "execution_count": 3,
   "id": "80b794e8",
   "metadata": {
    "execution": {
     "iopub.execute_input": "2025-01-11T12:36:02.097955Z",
     "iopub.status.busy": "2025-01-11T12:36:02.097467Z",
     "iopub.status.idle": "2025-01-11T12:36:02.103570Z",
     "shell.execute_reply": "2025-01-11T12:36:02.102434Z"
    },
    "papermill": {
     "duration": 0.018344,
     "end_time": "2025-01-11T12:36:02.105165",
     "exception": false,
     "start_time": "2025-01-11T12:36:02.086821",
     "status": "completed"
    },
    "tags": []
   },
   "outputs": [
    {
     "data": {
      "text/plain": [
       "(9648, 13)"
      ]
     },
     "execution_count": 3,
     "metadata": {},
     "output_type": "execute_result"
    }
   ],
   "source": [
    "df.shape"
   ]
  },
  {
   "cell_type": "code",
   "execution_count": 4,
   "id": "a75c0270",
   "metadata": {
    "execution": {
     "iopub.execute_input": "2025-01-11T12:36:02.125856Z",
     "iopub.status.busy": "2025-01-11T12:36:02.125514Z",
     "iopub.status.idle": "2025-01-11T12:36:02.153604Z",
     "shell.execute_reply": "2025-01-11T12:36:02.152099Z"
    },
    "papermill": {
     "duration": 0.040909,
     "end_time": "2025-01-11T12:36:02.156057",
     "exception": false,
     "start_time": "2025-01-11T12:36:02.115148",
     "status": "completed"
    },
    "tags": []
   },
   "outputs": [
    {
     "name": "stdout",
     "output_type": "stream",
     "text": [
      "<class 'pandas.core.frame.DataFrame'>\n",
      "RangeIndex: 9648 entries, 0 to 9647\n",
      "Data columns (total 13 columns):\n",
      " #   Column            Non-Null Count  Dtype         \n",
      "---  ------            --------------  -----         \n",
      " 0   Retailer          9648 non-null   object        \n",
      " 1   Retailer ID       9648 non-null   int64         \n",
      " 2   Invoice Date      9648 non-null   datetime64[ns]\n",
      " 3   Region            9648 non-null   object        \n",
      " 4   State             9648 non-null   object        \n",
      " 5   City              9648 non-null   object        \n",
      " 6   Product           9648 non-null   object        \n",
      " 7   Price per Unit    9648 non-null   float64       \n",
      " 8   Units Sold        9648 non-null   int64         \n",
      " 9   Total Sales       9648 non-null   float64       \n",
      " 10  Operating Profit  9648 non-null   float64       \n",
      " 11  Operating Margin  9648 non-null   float64       \n",
      " 12  Sales Method      9648 non-null   object        \n",
      "dtypes: datetime64[ns](1), float64(4), int64(2), object(6)\n",
      "memory usage: 980.0+ KB\n"
     ]
    }
   ],
   "source": [
    "df.info()"
   ]
  },
  {
   "cell_type": "markdown",
   "id": "d2f0fe85",
   "metadata": {
    "papermill": {
     "duration": 0.009866,
     "end_time": "2025-01-11T12:36:02.176991",
     "exception": false,
     "start_time": "2025-01-11T12:36:02.167125",
     "status": "completed"
    },
    "tags": []
   },
   "source": [
    "## Data Cleaning and Preprocessing"
   ]
  },
  {
   "cell_type": "code",
   "execution_count": 5,
   "id": "2cfb68f1",
   "metadata": {
    "execution": {
     "iopub.execute_input": "2025-01-11T12:36:02.197216Z",
     "iopub.status.busy": "2025-01-11T12:36:02.196891Z",
     "iopub.status.idle": "2025-01-11T12:36:02.207872Z",
     "shell.execute_reply": "2025-01-11T12:36:02.206495Z"
    },
    "papermill": {
     "duration": 0.023469,
     "end_time": "2025-01-11T12:36:02.209952",
     "exception": false,
     "start_time": "2025-01-11T12:36:02.186483",
     "status": "completed"
    },
    "tags": []
   },
   "outputs": [
    {
     "data": {
      "text/plain": [
       "Retailer            0\n",
       "Retailer ID         0\n",
       "Invoice Date        0\n",
       "Region              0\n",
       "State               0\n",
       "City                0\n",
       "Product             0\n",
       "Price per Unit      0\n",
       "Units Sold          0\n",
       "Total Sales         0\n",
       "Operating Profit    0\n",
       "Operating Margin    0\n",
       "Sales Method        0\n",
       "dtype: int64"
      ]
     },
     "execution_count": 5,
     "metadata": {},
     "output_type": "execute_result"
    }
   ],
   "source": [
    "df.isnull().sum()"
   ]
  },
  {
   "cell_type": "code",
   "execution_count": 6,
   "id": "782db10e",
   "metadata": {
    "execution": {
     "iopub.execute_input": "2025-01-11T12:36:02.231790Z",
     "iopub.status.busy": "2025-01-11T12:36:02.231445Z",
     "iopub.status.idle": "2025-01-11T12:36:02.251617Z",
     "shell.execute_reply": "2025-01-11T12:36:02.250555Z"
    },
    "papermill": {
     "duration": 0.033425,
     "end_time": "2025-01-11T12:36:02.253640",
     "exception": false,
     "start_time": "2025-01-11T12:36:02.220215",
     "status": "completed"
    },
    "tags": []
   },
   "outputs": [
    {
     "data": {
      "text/html": [
       "<div>\n",
       "<style scoped>\n",
       "    .dataframe tbody tr th:only-of-type {\n",
       "        vertical-align: middle;\n",
       "    }\n",
       "\n",
       "    .dataframe tbody tr th {\n",
       "        vertical-align: top;\n",
       "    }\n",
       "\n",
       "    .dataframe thead th {\n",
       "        text-align: right;\n",
       "    }\n",
       "</style>\n",
       "<table border=\"1\" class=\"dataframe\">\n",
       "  <thead>\n",
       "    <tr style=\"text-align: right;\">\n",
       "      <th></th>\n",
       "      <th>Retailer</th>\n",
       "      <th>Retailer ID</th>\n",
       "      <th>Invoice Date</th>\n",
       "      <th>Region</th>\n",
       "      <th>State</th>\n",
       "      <th>City</th>\n",
       "      <th>Product</th>\n",
       "      <th>Price per Unit</th>\n",
       "      <th>Units Sold</th>\n",
       "      <th>Total Sales</th>\n",
       "      <th>Operating Profit</th>\n",
       "      <th>Operating Margin</th>\n",
       "      <th>Sales Method</th>\n",
       "    </tr>\n",
       "  </thead>\n",
       "  <tbody>\n",
       "  </tbody>\n",
       "</table>\n",
       "</div>"
      ],
      "text/plain": [
       "Empty DataFrame\n",
       "Columns: [Retailer, Retailer ID, Invoice Date, Region, State, City, Product, Price per Unit, Units Sold, Total Sales, Operating Profit, Operating Margin, Sales Method]\n",
       "Index: []"
      ]
     },
     "execution_count": 6,
     "metadata": {},
     "output_type": "execute_result"
    }
   ],
   "source": [
    "# There are no Duplicates\n",
    "df[df.duplicated()]"
   ]
  },
  {
   "cell_type": "code",
   "execution_count": 7,
   "id": "3e12e5df",
   "metadata": {
    "execution": {
     "iopub.execute_input": "2025-01-11T12:36:02.276954Z",
     "iopub.status.busy": "2025-01-11T12:36:02.276572Z",
     "iopub.status.idle": "2025-01-11T12:36:02.295195Z",
     "shell.execute_reply": "2025-01-11T12:36:02.294135Z"
    },
    "papermill": {
     "duration": 0.032184,
     "end_time": "2025-01-11T12:36:02.297009",
     "exception": false,
     "start_time": "2025-01-11T12:36:02.264825",
     "status": "completed"
    },
    "tags": []
   },
   "outputs": [
    {
     "data": {
      "text/html": [
       "<div>\n",
       "<style scoped>\n",
       "    .dataframe tbody tr th:only-of-type {\n",
       "        vertical-align: middle;\n",
       "    }\n",
       "\n",
       "    .dataframe tbody tr th {\n",
       "        vertical-align: top;\n",
       "    }\n",
       "\n",
       "    .dataframe thead th {\n",
       "        text-align: right;\n",
       "    }\n",
       "</style>\n",
       "<table border=\"1\" class=\"dataframe\">\n",
       "  <thead>\n",
       "    <tr style=\"text-align: right;\">\n",
       "      <th></th>\n",
       "      <th>Retailer</th>\n",
       "      <th>Invoice Date</th>\n",
       "      <th>Region</th>\n",
       "      <th>State</th>\n",
       "      <th>City</th>\n",
       "      <th>Product</th>\n",
       "      <th>Price per Unit</th>\n",
       "      <th>Units Sold</th>\n",
       "      <th>Total Sales</th>\n",
       "      <th>Operating Profit</th>\n",
       "      <th>Operating Margin</th>\n",
       "      <th>Sales Method</th>\n",
       "    </tr>\n",
       "  </thead>\n",
       "  <tbody>\n",
       "    <tr>\n",
       "      <th>0</th>\n",
       "      <td>Foot Locker</td>\n",
       "      <td>2020-01-01</td>\n",
       "      <td>Northeast</td>\n",
       "      <td>New York</td>\n",
       "      <td>New York</td>\n",
       "      <td>Men's Street Footwear</td>\n",
       "      <td>50.0</td>\n",
       "      <td>1200</td>\n",
       "      <td>600000.0</td>\n",
       "      <td>300000.0</td>\n",
       "      <td>0.50</td>\n",
       "      <td>In-store</td>\n",
       "    </tr>\n",
       "    <tr>\n",
       "      <th>1</th>\n",
       "      <td>Foot Locker</td>\n",
       "      <td>2020-01-02</td>\n",
       "      <td>Northeast</td>\n",
       "      <td>New York</td>\n",
       "      <td>New York</td>\n",
       "      <td>Men's Athletic Footwear</td>\n",
       "      <td>50.0</td>\n",
       "      <td>1000</td>\n",
       "      <td>500000.0</td>\n",
       "      <td>150000.0</td>\n",
       "      <td>0.30</td>\n",
       "      <td>In-store</td>\n",
       "    </tr>\n",
       "    <tr>\n",
       "      <th>2</th>\n",
       "      <td>Foot Locker</td>\n",
       "      <td>2020-01-03</td>\n",
       "      <td>Northeast</td>\n",
       "      <td>New York</td>\n",
       "      <td>New York</td>\n",
       "      <td>Women's Street Footwear</td>\n",
       "      <td>40.0</td>\n",
       "      <td>1000</td>\n",
       "      <td>400000.0</td>\n",
       "      <td>140000.0</td>\n",
       "      <td>0.35</td>\n",
       "      <td>In-store</td>\n",
       "    </tr>\n",
       "    <tr>\n",
       "      <th>3</th>\n",
       "      <td>Foot Locker</td>\n",
       "      <td>2020-01-04</td>\n",
       "      <td>Northeast</td>\n",
       "      <td>New York</td>\n",
       "      <td>New York</td>\n",
       "      <td>Women's Athletic Footwear</td>\n",
       "      <td>45.0</td>\n",
       "      <td>850</td>\n",
       "      <td>382500.0</td>\n",
       "      <td>133875.0</td>\n",
       "      <td>0.35</td>\n",
       "      <td>In-store</td>\n",
       "    </tr>\n",
       "    <tr>\n",
       "      <th>4</th>\n",
       "      <td>Foot Locker</td>\n",
       "      <td>2020-01-05</td>\n",
       "      <td>Northeast</td>\n",
       "      <td>New York</td>\n",
       "      <td>New York</td>\n",
       "      <td>Men's Apparel</td>\n",
       "      <td>60.0</td>\n",
       "      <td>900</td>\n",
       "      <td>540000.0</td>\n",
       "      <td>162000.0</td>\n",
       "      <td>0.30</td>\n",
       "      <td>In-store</td>\n",
       "    </tr>\n",
       "  </tbody>\n",
       "</table>\n",
       "</div>"
      ],
      "text/plain": [
       "      Retailer Invoice Date     Region     State      City  \\\n",
       "0  Foot Locker   2020-01-01  Northeast  New York  New York   \n",
       "1  Foot Locker   2020-01-02  Northeast  New York  New York   \n",
       "2  Foot Locker   2020-01-03  Northeast  New York  New York   \n",
       "3  Foot Locker   2020-01-04  Northeast  New York  New York   \n",
       "4  Foot Locker   2020-01-05  Northeast  New York  New York   \n",
       "\n",
       "                     Product  Price per Unit  Units Sold  Total Sales  \\\n",
       "0      Men's Street Footwear            50.0        1200     600000.0   \n",
       "1    Men's Athletic Footwear            50.0        1000     500000.0   \n",
       "2    Women's Street Footwear            40.0        1000     400000.0   \n",
       "3  Women's Athletic Footwear            45.0         850     382500.0   \n",
       "4              Men's Apparel            60.0         900     540000.0   \n",
       "\n",
       "   Operating Profit  Operating Margin Sales Method  \n",
       "0          300000.0              0.50     In-store  \n",
       "1          150000.0              0.30     In-store  \n",
       "2          140000.0              0.35     In-store  \n",
       "3          133875.0              0.35     In-store  \n",
       "4          162000.0              0.30     In-store  "
      ]
     },
     "execution_count": 7,
     "metadata": {},
     "output_type": "execute_result"
    }
   ],
   "source": [
    "# Dropping Retailer ID\n",
    "df.drop(columns=['Retailer ID'],inplace=True)\n",
    "df.head()"
   ]
  },
  {
   "cell_type": "markdown",
   "id": "253daa82",
   "metadata": {
    "papermill": {
     "duration": 0.009848,
     "end_time": "2025-01-11T12:36:02.317685",
     "exception": false,
     "start_time": "2025-01-11T12:36:02.307837",
     "status": "completed"
    },
    "tags": []
   },
   "source": [
    "## Business Problems (Solved using Pandas)"
   ]
  },
  {
   "cell_type": "markdown",
   "id": "35876483",
   "metadata": {
    "papermill": {
     "duration": 0.009887,
     "end_time": "2025-01-11T12:36:02.337555",
     "exception": false,
     "start_time": "2025-01-11T12:36:02.327668",
     "status": "completed"
    },
    "tags": []
   },
   "source": [
    "### Q1. Total Sales by Retailer"
   ]
  },
  {
   "cell_type": "code",
   "execution_count": 8,
   "id": "4b1b0d58",
   "metadata": {
    "execution": {
     "iopub.execute_input": "2025-01-11T12:36:02.358799Z",
     "iopub.status.busy": "2025-01-11T12:36:02.358413Z",
     "iopub.status.idle": "2025-01-11T12:36:02.380048Z",
     "shell.execute_reply": "2025-01-11T12:36:02.378919Z"
    },
    "papermill": {
     "duration": 0.034463,
     "end_time": "2025-01-11T12:36:02.381950",
     "exception": false,
     "start_time": "2025-01-11T12:36:02.347487",
     "status": "completed"
    },
    "tags": []
   },
   "outputs": [
    {
     "data": {
      "text/html": [
       "<div>\n",
       "<style scoped>\n",
       "    .dataframe tbody tr th:only-of-type {\n",
       "        vertical-align: middle;\n",
       "    }\n",
       "\n",
       "    .dataframe tbody tr th {\n",
       "        vertical-align: top;\n",
       "    }\n",
       "\n",
       "    .dataframe thead th {\n",
       "        text-align: right;\n",
       "    }\n",
       "</style>\n",
       "<table border=\"1\" class=\"dataframe\">\n",
       "  <thead>\n",
       "    <tr style=\"text-align: right;\">\n",
       "      <th></th>\n",
       "      <th>Retailer</th>\n",
       "      <th>total_sales</th>\n",
       "    </tr>\n",
       "  </thead>\n",
       "  <tbody>\n",
       "    <tr>\n",
       "      <th>0</th>\n",
       "      <td>Amazon</td>\n",
       "      <td>77698912.0</td>\n",
       "    </tr>\n",
       "    <tr>\n",
       "      <th>1</th>\n",
       "      <td>Foot Locker</td>\n",
       "      <td>220094720.0</td>\n",
       "    </tr>\n",
       "    <tr>\n",
       "      <th>2</th>\n",
       "      <td>Kohl's</td>\n",
       "      <td>102114753.0</td>\n",
       "    </tr>\n",
       "    <tr>\n",
       "      <th>3</th>\n",
       "      <td>Sports Direct</td>\n",
       "      <td>182470997.0</td>\n",
       "    </tr>\n",
       "    <tr>\n",
       "      <th>4</th>\n",
       "      <td>Walmart</td>\n",
       "      <td>74558410.0</td>\n",
       "    </tr>\n",
       "    <tr>\n",
       "      <th>5</th>\n",
       "      <td>West Gear</td>\n",
       "      <td>242964333.0</td>\n",
       "    </tr>\n",
       "  </tbody>\n",
       "</table>\n",
       "</div>"
      ],
      "text/plain": [
       "        Retailer  total_sales\n",
       "0         Amazon   77698912.0\n",
       "1    Foot Locker  220094720.0\n",
       "2         Kohl's  102114753.0\n",
       "3  Sports Direct  182470997.0\n",
       "4        Walmart   74558410.0\n",
       "5      West Gear  242964333.0"
      ]
     },
     "execution_count": 8,
     "metadata": {},
     "output_type": "execute_result"
    }
   ],
   "source": [
    "df.groupby('Retailer').agg(\n",
    "    total_sales = ('Total Sales','sum')\n",
    ").reset_index()"
   ]
  },
  {
   "cell_type": "markdown",
   "id": "62f5bc27",
   "metadata": {
    "papermill": {
     "duration": 0.009927,
     "end_time": "2025-01-11T12:36:02.402325",
     "exception": false,
     "start_time": "2025-01-11T12:36:02.392398",
     "status": "completed"
    },
    "tags": []
   },
   "source": [
    "### Q2. Units Sold by Product"
   ]
  },
  {
   "cell_type": "code",
   "execution_count": 9,
   "id": "7b700bac",
   "metadata": {
    "execution": {
     "iopub.execute_input": "2025-01-11T12:36:02.423953Z",
     "iopub.status.busy": "2025-01-11T12:36:02.423630Z",
     "iopub.status.idle": "2025-01-11T12:36:02.439026Z",
     "shell.execute_reply": "2025-01-11T12:36:02.437773Z"
    },
    "papermill": {
     "duration": 0.028193,
     "end_time": "2025-01-11T12:36:02.440686",
     "exception": false,
     "start_time": "2025-01-11T12:36:02.412493",
     "status": "completed"
    },
    "tags": []
   },
   "outputs": [
    {
     "data": {
      "text/html": [
       "<div>\n",
       "<style scoped>\n",
       "    .dataframe tbody tr th:only-of-type {\n",
       "        vertical-align: middle;\n",
       "    }\n",
       "\n",
       "    .dataframe tbody tr th {\n",
       "        vertical-align: top;\n",
       "    }\n",
       "\n",
       "    .dataframe thead th {\n",
       "        text-align: right;\n",
       "    }\n",
       "</style>\n",
       "<table border=\"1\" class=\"dataframe\">\n",
       "  <thead>\n",
       "    <tr style=\"text-align: right;\">\n",
       "      <th></th>\n",
       "      <th>Product</th>\n",
       "      <th>units_sold</th>\n",
       "    </tr>\n",
       "  </thead>\n",
       "  <tbody>\n",
       "    <tr>\n",
       "      <th>0</th>\n",
       "      <td>Men's Apparel</td>\n",
       "      <td>306683</td>\n",
       "    </tr>\n",
       "    <tr>\n",
       "      <th>1</th>\n",
       "      <td>Men's Athletic Footwear</td>\n",
       "      <td>435526</td>\n",
       "    </tr>\n",
       "    <tr>\n",
       "      <th>2</th>\n",
       "      <td>Men's Street Footwear</td>\n",
       "      <td>593320</td>\n",
       "    </tr>\n",
       "    <tr>\n",
       "      <th>3</th>\n",
       "      <td>Women's Apparel</td>\n",
       "      <td>433827</td>\n",
       "    </tr>\n",
       "    <tr>\n",
       "      <th>4</th>\n",
       "      <td>Women's Athletic Footwear</td>\n",
       "      <td>317236</td>\n",
       "    </tr>\n",
       "    <tr>\n",
       "      <th>5</th>\n",
       "      <td>Women's Street Footwear</td>\n",
       "      <td>392269</td>\n",
       "    </tr>\n",
       "  </tbody>\n",
       "</table>\n",
       "</div>"
      ],
      "text/plain": [
       "                     Product  units_sold\n",
       "0              Men's Apparel      306683\n",
       "1    Men's Athletic Footwear      435526\n",
       "2      Men's Street Footwear      593320\n",
       "3            Women's Apparel      433827\n",
       "4  Women's Athletic Footwear      317236\n",
       "5    Women's Street Footwear      392269"
      ]
     },
     "execution_count": 9,
     "metadata": {},
     "output_type": "execute_result"
    }
   ],
   "source": [
    "df.groupby('Product').agg(\n",
    "    units_sold = ('Units Sold','sum')\n",
    ").reset_index()"
   ]
  },
  {
   "cell_type": "markdown",
   "id": "af4fa4b4",
   "metadata": {
    "papermill": {
     "duration": 0.010017,
     "end_time": "2025-01-11T12:36:02.461219",
     "exception": false,
     "start_time": "2025-01-11T12:36:02.451202",
     "status": "completed"
    },
    "tags": []
   },
   "source": [
    "### Q3. Sales by Region"
   ]
  },
  {
   "cell_type": "code",
   "execution_count": 10,
   "id": "b5754709",
   "metadata": {
    "execution": {
     "iopub.execute_input": "2025-01-11T12:36:02.483353Z",
     "iopub.status.busy": "2025-01-11T12:36:02.482974Z",
     "iopub.status.idle": "2025-01-11T12:36:02.499929Z",
     "shell.execute_reply": "2025-01-11T12:36:02.498754Z"
    },
    "papermill": {
     "duration": 0.030062,
     "end_time": "2025-01-11T12:36:02.501823",
     "exception": false,
     "start_time": "2025-01-11T12:36:02.471761",
     "status": "completed"
    },
    "tags": []
   },
   "outputs": [
    {
     "data": {
      "text/html": [
       "<div>\n",
       "<style scoped>\n",
       "    .dataframe tbody tr th:only-of-type {\n",
       "        vertical-align: middle;\n",
       "    }\n",
       "\n",
       "    .dataframe tbody tr th {\n",
       "        vertical-align: top;\n",
       "    }\n",
       "\n",
       "    .dataframe thead th {\n",
       "        text-align: right;\n",
       "    }\n",
       "</style>\n",
       "<table border=\"1\" class=\"dataframe\">\n",
       "  <thead>\n",
       "    <tr style=\"text-align: right;\">\n",
       "      <th></th>\n",
       "      <th>Region</th>\n",
       "      <th>sales_region</th>\n",
       "    </tr>\n",
       "  </thead>\n",
       "  <tbody>\n",
       "    <tr>\n",
       "      <th>0</th>\n",
       "      <td>Midwest</td>\n",
       "      <td>135800459.0</td>\n",
       "    </tr>\n",
       "    <tr>\n",
       "      <th>1</th>\n",
       "      <td>Northeast</td>\n",
       "      <td>186324067.0</td>\n",
       "    </tr>\n",
       "    <tr>\n",
       "      <th>2</th>\n",
       "      <td>South</td>\n",
       "      <td>144663181.0</td>\n",
       "    </tr>\n",
       "    <tr>\n",
       "      <th>3</th>\n",
       "      <td>Southeast</td>\n",
       "      <td>163171236.0</td>\n",
       "    </tr>\n",
       "    <tr>\n",
       "      <th>4</th>\n",
       "      <td>West</td>\n",
       "      <td>269943182.0</td>\n",
       "    </tr>\n",
       "  </tbody>\n",
       "</table>\n",
       "</div>"
      ],
      "text/plain": [
       "      Region  sales_region\n",
       "0    Midwest   135800459.0\n",
       "1  Northeast   186324067.0\n",
       "2      South   144663181.0\n",
       "3  Southeast   163171236.0\n",
       "4       West   269943182.0"
      ]
     },
     "execution_count": 10,
     "metadata": {},
     "output_type": "execute_result"
    }
   ],
   "source": [
    "df.groupby('Region').agg(\n",
    "    sales_region = ('Total Sales','sum')\n",
    ").reset_index()"
   ]
  },
  {
   "cell_type": "code",
   "execution_count": 11,
   "id": "25b440b6",
   "metadata": {
    "execution": {
     "iopub.execute_input": "2025-01-11T12:36:02.524807Z",
     "iopub.status.busy": "2025-01-11T12:36:02.524387Z",
     "iopub.status.idle": "2025-01-11T12:36:02.544361Z",
     "shell.execute_reply": "2025-01-11T12:36:02.543223Z"
    },
    "papermill": {
     "duration": 0.03307,
     "end_time": "2025-01-11T12:36:02.546021",
     "exception": false,
     "start_time": "2025-01-11T12:36:02.512951",
     "status": "completed"
    },
    "tags": []
   },
   "outputs": [
    {
     "data": {
      "text/html": [
       "<div>\n",
       "<style scoped>\n",
       "    .dataframe tbody tr th:only-of-type {\n",
       "        vertical-align: middle;\n",
       "    }\n",
       "\n",
       "    .dataframe tbody tr th {\n",
       "        vertical-align: top;\n",
       "    }\n",
       "\n",
       "    .dataframe thead th {\n",
       "        text-align: right;\n",
       "    }\n",
       "</style>\n",
       "<table border=\"1\" class=\"dataframe\">\n",
       "  <thead>\n",
       "    <tr style=\"text-align: right;\">\n",
       "      <th></th>\n",
       "      <th>Month</th>\n",
       "      <th>Total Sales</th>\n",
       "    </tr>\n",
       "  </thead>\n",
       "  <tbody>\n",
       "    <tr>\n",
       "      <th>0</th>\n",
       "      <td>2020-01</td>\n",
       "      <td>16253746.0</td>\n",
       "    </tr>\n",
       "    <tr>\n",
       "      <th>1</th>\n",
       "      <td>2020-02</td>\n",
       "      <td>14997988.0</td>\n",
       "    </tr>\n",
       "    <tr>\n",
       "      <th>2</th>\n",
       "      <td>2020-03</td>\n",
       "      <td>17660577.0</td>\n",
       "    </tr>\n",
       "    <tr>\n",
       "      <th>3</th>\n",
       "      <td>2020-04</td>\n",
       "      <td>24607006.0</td>\n",
       "    </tr>\n",
       "    <tr>\n",
       "      <th>4</th>\n",
       "      <td>2020-05</td>\n",
       "      <td>16918014.0</td>\n",
       "    </tr>\n",
       "    <tr>\n",
       "      <th>5</th>\n",
       "      <td>2020-06</td>\n",
       "      <td>8829819.0</td>\n",
       "    </tr>\n",
       "    <tr>\n",
       "      <th>6</th>\n",
       "      <td>2020-07</td>\n",
       "      <td>17146013.0</td>\n",
       "    </tr>\n",
       "    <tr>\n",
       "      <th>7</th>\n",
       "      <td>2020-08</td>\n",
       "      <td>19877980.0</td>\n",
       "    </tr>\n",
       "    <tr>\n",
       "      <th>8</th>\n",
       "      <td>2020-09</td>\n",
       "      <td>18304436.0</td>\n",
       "    </tr>\n",
       "    <tr>\n",
       "      <th>9</th>\n",
       "      <td>2020-10</td>\n",
       "      <td>10836269.0</td>\n",
       "    </tr>\n",
       "    <tr>\n",
       "      <th>10</th>\n",
       "      <td>2020-11</td>\n",
       "      <td>8622300.0</td>\n",
       "    </tr>\n",
       "    <tr>\n",
       "      <th>11</th>\n",
       "      <td>2020-12</td>\n",
       "      <td>8026527.0</td>\n",
       "    </tr>\n",
       "    <tr>\n",
       "      <th>12</th>\n",
       "      <td>2021-01</td>\n",
       "      <td>55225396.0</td>\n",
       "    </tr>\n",
       "    <tr>\n",
       "      <th>13</th>\n",
       "      <td>2021-02</td>\n",
       "      <td>46102165.0</td>\n",
       "    </tr>\n",
       "    <tr>\n",
       "      <th>14</th>\n",
       "      <td>2021-03</td>\n",
       "      <td>39148532.0</td>\n",
       "    </tr>\n",
       "    <tr>\n",
       "      <th>15</th>\n",
       "      <td>2021-04</td>\n",
       "      <td>47732964.0</td>\n",
       "    </tr>\n",
       "    <tr>\n",
       "      <th>16</th>\n",
       "      <td>2021-05</td>\n",
       "      <td>63589681.0</td>\n",
       "    </tr>\n",
       "    <tr>\n",
       "      <th>17</th>\n",
       "      <td>2021-06</td>\n",
       "      <td>65917553.0</td>\n",
       "    </tr>\n",
       "    <tr>\n",
       "      <th>18</th>\n",
       "      <td>2021-07</td>\n",
       "      <td>78334681.0</td>\n",
       "    </tr>\n",
       "    <tr>\n",
       "      <th>19</th>\n",
       "      <td>2021-08</td>\n",
       "      <td>72288221.0</td>\n",
       "    </tr>\n",
       "    <tr>\n",
       "      <th>20</th>\n",
       "      <td>2021-09</td>\n",
       "      <td>59357023.0</td>\n",
       "    </tr>\n",
       "    <tr>\n",
       "      <th>21</th>\n",
       "      <td>2021-10</td>\n",
       "      <td>53074764.0</td>\n",
       "    </tr>\n",
       "    <tr>\n",
       "      <th>22</th>\n",
       "      <td>2021-11</td>\n",
       "      <td>59235040.0</td>\n",
       "    </tr>\n",
       "    <tr>\n",
       "      <th>23</th>\n",
       "      <td>2021-12</td>\n",
       "      <td>77815430.0</td>\n",
       "    </tr>\n",
       "  </tbody>\n",
       "</table>\n",
       "</div>"
      ],
      "text/plain": [
       "      Month  Total Sales\n",
       "0   2020-01   16253746.0\n",
       "1   2020-02   14997988.0\n",
       "2   2020-03   17660577.0\n",
       "3   2020-04   24607006.0\n",
       "4   2020-05   16918014.0\n",
       "5   2020-06    8829819.0\n",
       "6   2020-07   17146013.0\n",
       "7   2020-08   19877980.0\n",
       "8   2020-09   18304436.0\n",
       "9   2020-10   10836269.0\n",
       "10  2020-11    8622300.0\n",
       "11  2020-12    8026527.0\n",
       "12  2021-01   55225396.0\n",
       "13  2021-02   46102165.0\n",
       "14  2021-03   39148532.0\n",
       "15  2021-04   47732964.0\n",
       "16  2021-05   63589681.0\n",
       "17  2021-06   65917553.0\n",
       "18  2021-07   78334681.0\n",
       "19  2021-08   72288221.0\n",
       "20  2021-09   59357023.0\n",
       "21  2021-10   53074764.0\n",
       "22  2021-11   59235040.0\n",
       "23  2021-12   77815430.0"
      ]
     },
     "execution_count": 11,
     "metadata": {},
     "output_type": "execute_result"
    }
   ],
   "source": [
    "df['Month'] = df['Invoice Date'].dt.to_period('M')\n",
    "df.groupby('Month')['Total Sales'].sum().reset_index()"
   ]
  },
  {
   "cell_type": "code",
   "execution_count": 12,
   "id": "2ae17626",
   "metadata": {
    "execution": {
     "iopub.execute_input": "2025-01-11T12:36:02.568982Z",
     "iopub.status.busy": "2025-01-11T12:36:02.568585Z",
     "iopub.status.idle": "2025-01-11T12:36:03.081467Z",
     "shell.execute_reply": "2025-01-11T12:36:03.080418Z"
    },
    "papermill": {
     "duration": 0.526496,
     "end_time": "2025-01-11T12:36:03.083464",
     "exception": false,
     "start_time": "2025-01-11T12:36:02.556968",
     "status": "completed"
    },
    "tags": []
   },
   "outputs": [
    {
     "data": {
      "image/png": "[encoded data removed]",
      "text/plain": [
       "<Figure size 1000x600 with 1 Axes>"
      ]
     },
     "metadata": {},
     "output_type": "display_data"
    }
   ],
   "source": [
    "import matplotlib.pyplot as plt\n",
    "\n",
    "# Grouping the data by Month and summing Total Sales\n",
    "monthly_sales = df.groupby('Month')['Total Sales'].sum().reset_index()\n",
    "\n",
    "# Converting Month to a datetime object for proper plotting\n",
    "monthly_sales['Month'] = monthly_sales['Month'].astype(str)\n",
    "monthly_sales['Month'] = pd.to_datetime(monthly_sales['Month'])\n",
    "\n",
    "# Plotting the line graph\n",
    "plt.figure(figsize=(10, 6))\n",
    "plt.plot(monthly_sales['Month'], monthly_sales['Total Sales'], marker='o', linestyle='-', color='blue')\n",
    "plt.title('Monthly Sales Trend', fontsize=16)\n",
    "plt.xlabel('Month', fontsize=12)\n",
    "plt.ylabel('Total Sales', fontsize=12)\n",
    "plt.grid(True)\n",
    "plt.xticks(rotation=45)\n",
    "plt.tight_layout()\n",
    "plt.show()\n"
   ]
  },
  {
   "cell_type": "markdown",
   "id": "e97e06c6",
   "metadata": {
    "papermill": {
     "duration": 0.011438,
     "end_time": "2025-01-11T12:36:03.109453",
     "exception": false,
     "start_time": "2025-01-11T12:36:03.098015",
     "status": "completed"
    },
    "tags": []
   },
   "source": [
    "### Q5. Profitability by Product"
   ]
  },
  {
   "cell_type": "code",
   "execution_count": 13,
   "id": "991a5570",
   "metadata": {
    "execution": {
     "iopub.execute_input": "2025-01-11T12:36:03.134619Z",
     "iopub.status.busy": "2025-01-11T12:36:03.134139Z",
     "iopub.status.idle": "2025-01-11T12:36:03.151144Z",
     "shell.execute_reply": "2025-01-11T12:36:03.150054Z"
    },
    "papermill": {
     "duration": 0.031995,
     "end_time": "2025-01-11T12:36:03.153238",
     "exception": false,
     "start_time": "2025-01-11T12:36:03.121243",
     "status": "completed"
    },
    "tags": []
   },
   "outputs": [
    {
     "data": {
      "text/html": [
       "<div>\n",
       "<style scoped>\n",
       "    .dataframe tbody tr th:only-of-type {\n",
       "        vertical-align: middle;\n",
       "    }\n",
       "\n",
       "    .dataframe tbody tr th {\n",
       "        vertical-align: top;\n",
       "    }\n",
       "\n",
       "    .dataframe thead th {\n",
       "        text-align: right;\n",
       "    }\n",
       "</style>\n",
       "<table border=\"1\" class=\"dataframe\">\n",
       "  <thead>\n",
       "    <tr style=\"text-align: right;\">\n",
       "      <th></th>\n",
       "      <th>Product</th>\n",
       "      <th>profit</th>\n",
       "    </tr>\n",
       "  </thead>\n",
       "  <tbody>\n",
       "    <tr>\n",
       "      <th>0</th>\n",
       "      <td>Men's Apparel</td>\n",
       "      <td>44763030.33</td>\n",
       "    </tr>\n",
       "    <tr>\n",
       "      <th>1</th>\n",
       "      <td>Men's Athletic Footwear</td>\n",
       "      <td>51846888.19</td>\n",
       "    </tr>\n",
       "    <tr>\n",
       "      <th>2</th>\n",
       "      <td>Men's Street Footwear</td>\n",
       "      <td>82802260.62</td>\n",
       "    </tr>\n",
       "    <tr>\n",
       "      <th>3</th>\n",
       "      <td>Women's Apparel</td>\n",
       "      <td>68650970.56</td>\n",
       "    </tr>\n",
       "    <tr>\n",
       "      <th>4</th>\n",
       "      <td>Women's Athletic Footwear</td>\n",
       "      <td>38975784.94</td>\n",
       "    </tr>\n",
       "    <tr>\n",
       "      <th>5</th>\n",
       "      <td>Women's Street Footwear</td>\n",
       "      <td>45095826.81</td>\n",
       "    </tr>\n",
       "  </tbody>\n",
       "</table>\n",
       "</div>"
      ],
      "text/plain": [
       "                     Product       profit\n",
       "0              Men's Apparel  44763030.33\n",
       "1    Men's Athletic Footwear  51846888.19\n",
       "2      Men's Street Footwear  82802260.62\n",
       "3            Women's Apparel  68650970.56\n",
       "4  Women's Athletic Footwear  38975784.94\n",
       "5    Women's Street Footwear  45095826.81"
      ]
     },
     "execution_count": 13,
     "metadata": {},
     "output_type": "execute_result"
    }
   ],
   "source": [
    "df.groupby('Product').agg(\n",
    "    profit = ('Operating Profit','sum')\n",
    ").reset_index()"
   ]
  },
  {
   "cell_type": "markdown",
   "id": "80e791d6",
   "metadata": {
    "papermill": {
     "duration": 0.011617,
     "end_time": "2025-01-11T12:36:03.177258",
     "exception": false,
     "start_time": "2025-01-11T12:36:03.165641",
     "status": "completed"
    },
    "tags": []
   },
   "source": [
    "### Q6. Top-Selling Products in Each Region"
   ]
  },
  {
   "cell_type": "code",
   "execution_count": 14,
   "id": "162f1bfe",
   "metadata": {
    "execution": {
     "iopub.execute_input": "2025-01-11T12:36:03.202815Z",
     "iopub.status.busy": "2025-01-11T12:36:03.202473Z",
     "iopub.status.idle": "2025-01-11T12:36:03.224884Z",
     "shell.execute_reply": "2025-01-11T12:36:03.223723Z"
    },
    "papermill": {
     "duration": 0.037226,
     "end_time": "2025-01-11T12:36:03.226575",
     "exception": false,
     "start_time": "2025-01-11T12:36:03.189349",
     "status": "completed"
    },
    "tags": []
   },
   "outputs": [
    {
     "data": {
      "text/html": [
       "<div>\n",
       "<style scoped>\n",
       "    .dataframe tbody tr th:only-of-type {\n",
       "        vertical-align: middle;\n",
       "    }\n",
       "\n",
       "    .dataframe tbody tr th {\n",
       "        vertical-align: top;\n",
       "    }\n",
       "\n",
       "    .dataframe thead th {\n",
       "        text-align: right;\n",
       "    }\n",
       "</style>\n",
       "<table border=\"1\" class=\"dataframe\">\n",
       "  <thead>\n",
       "    <tr style=\"text-align: right;\">\n",
       "      <th></th>\n",
       "      <th>Region</th>\n",
       "      <th>Product</th>\n",
       "      <th>units_sold</th>\n",
       "    </tr>\n",
       "  </thead>\n",
       "  <tbody>\n",
       "    <tr>\n",
       "      <th>2</th>\n",
       "      <td>Midwest</td>\n",
       "      <td>Men's Street Footwear</td>\n",
       "      <td>109861</td>\n",
       "    </tr>\n",
       "    <tr>\n",
       "      <th>3</th>\n",
       "      <td>Midwest</td>\n",
       "      <td>Women's Apparel</td>\n",
       "      <td>69435</td>\n",
       "    </tr>\n",
       "    <tr>\n",
       "      <th>1</th>\n",
       "      <td>Midwest</td>\n",
       "      <td>Men's Athletic Footwear</td>\n",
       "      <td>65120</td>\n",
       "    </tr>\n",
       "    <tr>\n",
       "      <th>8</th>\n",
       "      <td>Northeast</td>\n",
       "      <td>Men's Street Footwear</td>\n",
       "      <td>134252</td>\n",
       "    </tr>\n",
       "    <tr>\n",
       "      <th>9</th>\n",
       "      <td>Northeast</td>\n",
       "      <td>Women's Apparel</td>\n",
       "      <td>90048</td>\n",
       "    </tr>\n",
       "    <tr>\n",
       "      <th>7</th>\n",
       "      <td>Northeast</td>\n",
       "      <td>Men's Athletic Footwear</td>\n",
       "      <td>81474</td>\n",
       "    </tr>\n",
       "    <tr>\n",
       "      <th>14</th>\n",
       "      <td>South</td>\n",
       "      <td>Men's Street Footwear</td>\n",
       "      <td>106545</td>\n",
       "    </tr>\n",
       "    <tr>\n",
       "      <th>13</th>\n",
       "      <td>South</td>\n",
       "      <td>Men's Athletic Footwear</td>\n",
       "      <td>90079</td>\n",
       "    </tr>\n",
       "    <tr>\n",
       "      <th>15</th>\n",
       "      <td>South</td>\n",
       "      <td>Women's Apparel</td>\n",
       "      <td>88740</td>\n",
       "    </tr>\n",
       "    <tr>\n",
       "      <th>20</th>\n",
       "      <td>Southeast</td>\n",
       "      <td>Men's Street Footwear</td>\n",
       "      <td>91867</td>\n",
       "    </tr>\n",
       "    <tr>\n",
       "      <th>19</th>\n",
       "      <td>Southeast</td>\n",
       "      <td>Men's Athletic Footwear</td>\n",
       "      <td>71129</td>\n",
       "    </tr>\n",
       "    <tr>\n",
       "      <th>21</th>\n",
       "      <td>Southeast</td>\n",
       "      <td>Women's Apparel</td>\n",
       "      <td>68839</td>\n",
       "    </tr>\n",
       "    <tr>\n",
       "      <th>26</th>\n",
       "      <td>West</td>\n",
       "      <td>Men's Street Footwear</td>\n",
       "      <td>150795</td>\n",
       "    </tr>\n",
       "    <tr>\n",
       "      <th>25</th>\n",
       "      <td>West</td>\n",
       "      <td>Men's Athletic Footwear</td>\n",
       "      <td>127724</td>\n",
       "    </tr>\n",
       "    <tr>\n",
       "      <th>27</th>\n",
       "      <td>West</td>\n",
       "      <td>Women's Apparel</td>\n",
       "      <td>116765</td>\n",
       "    </tr>\n",
       "  </tbody>\n",
       "</table>\n",
       "</div>"
      ],
      "text/plain": [
       "       Region                  Product  units_sold\n",
       "2     Midwest    Men's Street Footwear      109861\n",
       "3     Midwest          Women's Apparel       69435\n",
       "1     Midwest  Men's Athletic Footwear       65120\n",
       "8   Northeast    Men's Street Footwear      134252\n",
       "9   Northeast          Women's Apparel       90048\n",
       "7   Northeast  Men's Athletic Footwear       81474\n",
       "14      South    Men's Street Footwear      106545\n",
       "13      South  Men's Athletic Footwear       90079\n",
       "15      South          Women's Apparel       88740\n",
       "20  Southeast    Men's Street Footwear       91867\n",
       "19  Southeast  Men's Athletic Footwear       71129\n",
       "21  Southeast          Women's Apparel       68839\n",
       "26       West    Men's Street Footwear      150795\n",
       "25       West  Men's Athletic Footwear      127724\n",
       "27       West          Women's Apparel      116765"
      ]
     },
     "execution_count": 14,
     "metadata": {},
     "output_type": "execute_result"
    }
   ],
   "source": [
    "df.groupby(['Region', 'Product']).agg(\n",
    "    units_sold = ('Units Sold','sum')\n",
    ").reset_index()\\\n",
    ".sort_values(['Region', 'units_sold'], ascending=[True, False])\\\n",
    ".groupby('Region').head(3) # Groups the sorted data again by Region to allow selecting the top rows for each region."
   ]
  },
  {
   "cell_type": "markdown",
   "id": "db34ce8b",
   "metadata": {
    "papermill": {
     "duration": 0.012298,
     "end_time": "2025-01-11T12:36:03.251383",
     "exception": false,
     "start_time": "2025-01-11T12:36:03.239085",
     "status": "completed"
    },
    "tags": []
   },
   "source": [
    "### Q7. City-Wise Sales Breakdown (Top 10)"
   ]
  },
  {
   "cell_type": "code",
   "execution_count": 15,
   "id": "e8c3a913",
   "metadata": {
    "execution": {
     "iopub.execute_input": "2025-01-11T12:36:03.278529Z",
     "iopub.status.busy": "2025-01-11T12:36:03.278121Z",
     "iopub.status.idle": "2025-01-11T12:36:03.296524Z",
     "shell.execute_reply": "2025-01-11T12:36:03.295226Z"
    },
    "papermill": {
     "duration": 0.034971,
     "end_time": "2025-01-11T12:36:03.298536",
     "exception": false,
     "start_time": "2025-01-11T12:36:03.263565",
     "status": "completed"
    },
    "tags": []
   },
   "outputs": [
    {
     "data": {
      "text/html": [
       "<div>\n",
       "<style scoped>\n",
       "    .dataframe tbody tr th:only-of-type {\n",
       "        vertical-align: middle;\n",
       "    }\n",
       "\n",
       "    .dataframe tbody tr th {\n",
       "        vertical-align: top;\n",
       "    }\n",
       "\n",
       "    .dataframe thead th {\n",
       "        text-align: right;\n",
       "    }\n",
       "</style>\n",
       "<table border=\"1\" class=\"dataframe\">\n",
       "  <thead>\n",
       "    <tr style=\"text-align: right;\">\n",
       "      <th></th>\n",
       "      <th>City</th>\n",
       "      <th>total_sales</th>\n",
       "    </tr>\n",
       "  </thead>\n",
       "  <tbody>\n",
       "    <tr>\n",
       "      <th>0</th>\n",
       "      <td>Albany</td>\n",
       "      <td>24427804.0</td>\n",
       "    </tr>\n",
       "    <tr>\n",
       "      <th>1</th>\n",
       "      <td>Albuquerque</td>\n",
       "      <td>19865016.0</td>\n",
       "    </tr>\n",
       "    <tr>\n",
       "      <th>2</th>\n",
       "      <td>Anchorage</td>\n",
       "      <td>14753103.0</td>\n",
       "    </tr>\n",
       "    <tr>\n",
       "      <th>3</th>\n",
       "      <td>Atlanta</td>\n",
       "      <td>18997466.0</td>\n",
       "    </tr>\n",
       "    <tr>\n",
       "      <th>4</th>\n",
       "      <td>Baltimore</td>\n",
       "      <td>7758059.0</td>\n",
       "    </tr>\n",
       "    <tr>\n",
       "      <th>5</th>\n",
       "      <td>Billings</td>\n",
       "      <td>15710886.0</td>\n",
       "    </tr>\n",
       "    <tr>\n",
       "      <th>6</th>\n",
       "      <td>Birmingham</td>\n",
       "      <td>17633424.0</td>\n",
       "    </tr>\n",
       "    <tr>\n",
       "      <th>7</th>\n",
       "      <td>Boise</td>\n",
       "      <td>19276878.0</td>\n",
       "    </tr>\n",
       "    <tr>\n",
       "      <th>8</th>\n",
       "      <td>Boston</td>\n",
       "      <td>11076810.0</td>\n",
       "    </tr>\n",
       "    <tr>\n",
       "      <th>9</th>\n",
       "      <td>Burlington</td>\n",
       "      <td>14352923.0</td>\n",
       "    </tr>\n",
       "  </tbody>\n",
       "</table>\n",
       "</div>"
      ],
      "text/plain": [
       "          City  total_sales\n",
       "0       Albany   24427804.0\n",
       "1  Albuquerque   19865016.0\n",
       "2    Anchorage   14753103.0\n",
       "3      Atlanta   18997466.0\n",
       "4    Baltimore    7758059.0\n",
       "5     Billings   15710886.0\n",
       "6   Birmingham   17633424.0\n",
       "7        Boise   19276878.0\n",
       "8       Boston   11076810.0\n",
       "9   Burlington   14352923.0"
      ]
     },
     "execution_count": 15,
     "metadata": {},
     "output_type": "execute_result"
    }
   ],
   "source": [
    "df.groupby('City').agg(\n",
    "    total_sales = ('Total Sales','sum')\n",
    ").reset_index()\\\n",
    ".sort_values(['City', 'total_sales'], ascending=[True, False]).head(10)"
   ]
  },
  {
   "cell_type": "markdown",
   "id": "fa25ebae",
   "metadata": {
    "papermill": {
     "duration": 0.012738,
     "end_time": "2025-01-11T12:36:03.324183",
     "exception": false,
     "start_time": "2025-01-11T12:36:03.311445",
     "status": "completed"
    },
    "tags": []
   },
   "source": [
    " ### Q8. Sales Method Comparison"
   ]
  },
  {
   "cell_type": "code",
   "execution_count": 16,
   "id": "bff468b0",
   "metadata": {
    "execution": {
     "iopub.execute_input": "2025-01-11T12:36:03.350629Z",
     "iopub.status.busy": "2025-01-11T12:36:03.350202Z",
     "iopub.status.idle": "2025-01-11T12:36:03.367515Z",
     "shell.execute_reply": "2025-01-11T12:36:03.366130Z"
    },
    "papermill": {
     "duration": 0.032855,
     "end_time": "2025-01-11T12:36:03.369494",
     "exception": false,
     "start_time": "2025-01-11T12:36:03.336639",
     "status": "completed"
    },
    "tags": []
   },
   "outputs": [
    {
     "data": {
      "text/html": [
       "<div>\n",
       "<style scoped>\n",
       "    .dataframe tbody tr th:only-of-type {\n",
       "        vertical-align: middle;\n",
       "    }\n",
       "\n",
       "    .dataframe tbody tr th {\n",
       "        vertical-align: top;\n",
       "    }\n",
       "\n",
       "    .dataframe thead th {\n",
       "        text-align: right;\n",
       "    }\n",
       "</style>\n",
       "<table border=\"1\" class=\"dataframe\">\n",
       "  <thead>\n",
       "    <tr style=\"text-align: right;\">\n",
       "      <th></th>\n",
       "      <th>Sales Method</th>\n",
       "      <th>Total Sales</th>\n",
       "      <th>Operating Margin</th>\n",
       "    </tr>\n",
       "  </thead>\n",
       "  <tbody>\n",
       "    <tr>\n",
       "      <th>0</th>\n",
       "      <td>In-store</td>\n",
       "      <td>356643750.0</td>\n",
       "      <td>0.356121</td>\n",
       "    </tr>\n",
       "    <tr>\n",
       "      <th>1</th>\n",
       "      <td>Online</td>\n",
       "      <td>247672882.0</td>\n",
       "      <td>0.464152</td>\n",
       "    </tr>\n",
       "    <tr>\n",
       "      <th>2</th>\n",
       "      <td>Outlet</td>\n",
       "      <td>295585493.0</td>\n",
       "      <td>0.394876</td>\n",
       "    </tr>\n",
       "  </tbody>\n",
       "</table>\n",
       "</div>"
      ],
      "text/plain": [
       "  Sales Method  Total Sales  Operating Margin\n",
       "0     In-store  356643750.0          0.356121\n",
       "1       Online  247672882.0          0.464152\n",
       "2       Outlet  295585493.0          0.394876"
      ]
     },
     "execution_count": 16,
     "metadata": {},
     "output_type": "execute_result"
    }
   ],
   "source": [
    "df.groupby('Sales Method').agg({'Total Sales': 'sum', 'Operating Margin': 'mean'}).reset_index()"
   ]
  },
  {
   "cell_type": "markdown",
   "id": "c2ed896c",
   "metadata": {
    "papermill": {
     "duration": 0.012719,
     "end_time": "2025-01-11T12:36:03.395297",
     "exception": false,
     "start_time": "2025-01-11T12:36:03.382578",
     "status": "completed"
    },
    "tags": []
   },
   "source": [
    "### Q9. Seasonality Analysis"
   ]
  },
  {
   "cell_type": "code",
   "execution_count": 17,
   "id": "8b85bd1b",
   "metadata": {
    "execution": {
     "iopub.execute_input": "2025-01-11T12:36:03.421911Z",
     "iopub.status.busy": "2025-01-11T12:36:03.421526Z",
     "iopub.status.idle": "2025-01-11T12:36:03.435651Z",
     "shell.execute_reply": "2025-01-11T12:36:03.434455Z"
    },
    "papermill": {
     "duration": 0.029118,
     "end_time": "2025-01-11T12:36:03.437236",
     "exception": false,
     "start_time": "2025-01-11T12:36:03.408118",
     "status": "completed"
    },
    "tags": []
   },
   "outputs": [
    {
     "data": {
      "text/html": [
       "<div>\n",
       "<style scoped>\n",
       "    .dataframe tbody tr th:only-of-type {\n",
       "        vertical-align: middle;\n",
       "    }\n",
       "\n",
       "    .dataframe tbody tr th {\n",
       "        vertical-align: top;\n",
       "    }\n",
       "\n",
       "    .dataframe thead th {\n",
       "        text-align: right;\n",
       "    }\n",
       "</style>\n",
       "<table border=\"1\" class=\"dataframe\">\n",
       "  <thead>\n",
       "    <tr style=\"text-align: right;\">\n",
       "      <th></th>\n",
       "      <th>Quarter</th>\n",
       "      <th>Total Sales</th>\n",
       "      <th>Operating Margin</th>\n",
       "    </tr>\n",
       "  </thead>\n",
       "  <tbody>\n",
       "    <tr>\n",
       "      <th>0</th>\n",
       "      <td>1</td>\n",
       "      <td>189388404.0</td>\n",
       "      <td>0.414170</td>\n",
       "    </tr>\n",
       "    <tr>\n",
       "      <th>1</th>\n",
       "      <td>2</td>\n",
       "      <td>227595037.0</td>\n",
       "      <td>0.424272</td>\n",
       "    </tr>\n",
       "    <tr>\n",
       "      <th>2</th>\n",
       "      <td>3</td>\n",
       "      <td>265308354.0</td>\n",
       "      <td>0.431322</td>\n",
       "    </tr>\n",
       "    <tr>\n",
       "      <th>3</th>\n",
       "      <td>4</td>\n",
       "      <td>217610330.0</td>\n",
       "      <td>0.422162</td>\n",
       "    </tr>\n",
       "  </tbody>\n",
       "</table>\n",
       "</div>"
      ],
      "text/plain": [
       "   Quarter  Total Sales  Operating Margin\n",
       "0        1  189388404.0          0.414170\n",
       "1        2  227595037.0          0.424272\n",
       "2        3  265308354.0          0.431322\n",
       "3        4  217610330.0          0.422162"
      ]
     },
     "execution_count": 17,
     "metadata": {},
     "output_type": "execute_result"
    }
   ],
   "source": [
    "df['Quarter'] = df['Invoice Date'].dt.quarter\n",
    "df.groupby('Quarter').agg({'Total Sales': 'sum', 'Operating Margin': 'mean'}).reset_index()"
   ]
  },
  {
   "cell_type": "code",
   "execution_count": 18,
   "id": "5fb6b0dd",
   "metadata": {
    "execution": {
     "iopub.execute_input": "2025-01-11T12:36:03.463978Z",
     "iopub.status.busy": "2025-01-11T12:36:03.463635Z",
     "iopub.status.idle": "2025-01-11T12:36:04.123817Z",
     "shell.execute_reply": "2025-01-11T12:36:04.122745Z"
    },
    "papermill": {
     "duration": 0.675389,
     "end_time": "2025-01-11T12:36:04.125436",
     "exception": false,
     "start_time": "2025-01-11T12:36:03.450047",
     "status": "completed"
    },
    "tags": []
   },
   "outputs": [
    {
     "data": {
      "image/png": "[encoded data removed]",
      "text/plain": [
       "<Figure size 600x400 with 2 Axes>"
      ]
     },
     "metadata": {},
     "output_type": "display_data"
    }
   ],
   "source": [
    "import matplotlib.pyplot as plt\n",
    "\n",
    "# Grouping data by Quarter and calculating total sales and average operating margin\n",
    "quarterly_data = df.groupby('Quarter').agg({\n",
    "    'Total Sales': 'sum',\n",
    "    'Operating Margin': 'mean'\n",
    "}).reset_index()\n",
    "\n",
    "# Plotting the data\n",
    "fig, ax1 = plt.subplots(figsize=(6, 4))\n",
    "\n",
    "# Plot Total Sales as a bar plot\n",
    "ax1.bar(quarterly_data['Quarter'], quarterly_data['Total Sales'], color='skyblue', label='Total Sales')\n",
    "ax1.set_xlabel('Quarter', fontsize=12)\n",
    "ax1.set_ylabel('Total Sales', fontsize=12, color='blue')\n",
    "ax1.tick_params(axis='y', labelcolor='blue')\n",
    "ax1.set_title('Quarterly Sales and Operating Margin', fontsize=16)\n",
    "\n",
    "# Create a second y-axis for Operating Margin\n",
    "ax2 = ax1.twinx()\n",
    "ax2.plot(quarterly_data['Quarter'], quarterly_data['Operating Margin'], color='orange', marker='o', label='Operating Margin')\n",
    "ax2.set_ylabel('Operating Margin', fontsize=12, color='orange')\n",
    "ax2.tick_params(axis='y', labelcolor='orange')\n",
    "\n",
    "# Adding a grid and legend\n",
    "fig.tight_layout()\n",
    "ax1.grid(visible=True, linestyle='--', alpha=0.6)"
   ]
  },
  {
   "cell_type": "markdown",
   "id": "522f24a7",
   "metadata": {
    "papermill": {
     "duration": 0.013595,
     "end_time": "2025-01-11T12:36:04.154074",
     "exception": false,
     "start_time": "2025-01-11T12:36:04.140479",
     "status": "completed"
    },
    "tags": []
   },
   "source": [
    "### Q10. Profitability Hotspots (Top 10)\n",
    "- **Query:** Which combination of state and product has the highest average operating margin?\n",
    "- **Purpose:** Find areas with high profitability potential."
   ]
  },
  {
   "cell_type": "code",
   "execution_count": 19,
   "id": "59dae5d0",
   "metadata": {
    "execution": {
     "iopub.execute_input": "2025-01-11T12:36:04.185173Z",
     "iopub.status.busy": "2025-01-11T12:36:04.184571Z",
     "iopub.status.idle": "2025-01-11T12:36:04.206978Z",
     "shell.execute_reply": "2025-01-11T12:36:04.205599Z"
    },
    "papermill": {
     "duration": 0.041439,
     "end_time": "2025-01-11T12:36:04.209452",
     "exception": false,
     "start_time": "2025-01-11T12:36:04.168013",
     "status": "completed"
    },
    "tags": []
   },
   "outputs": [
    {
     "data": {
      "text/html": [
       "<div>\n",
       "<style scoped>\n",
       "    .dataframe tbody tr th:only-of-type {\n",
       "        vertical-align: middle;\n",
       "    }\n",
       "\n",
       "    .dataframe tbody tr th {\n",
       "        vertical-align: top;\n",
       "    }\n",
       "\n",
       "    .dataframe thead th {\n",
       "        text-align: right;\n",
       "    }\n",
       "</style>\n",
       "<table border=\"1\" class=\"dataframe\">\n",
       "  <thead>\n",
       "    <tr style=\"text-align: right;\">\n",
       "      <th></th>\n",
       "      <th>State</th>\n",
       "      <th>Product</th>\n",
       "      <th>Operating Margin</th>\n",
       "    </tr>\n",
       "  </thead>\n",
       "  <tbody>\n",
       "    <tr>\n",
       "      <th>3</th>\n",
       "      <td>Alabama</td>\n",
       "      <td>Women's Apparel</td>\n",
       "      <td>0.678889</td>\n",
       "    </tr>\n",
       "    <tr>\n",
       "      <th>150</th>\n",
       "      <td>Montana</td>\n",
       "      <td>Men's Apparel</td>\n",
       "      <td>0.664583</td>\n",
       "    </tr>\n",
       "    <tr>\n",
       "      <th>249</th>\n",
       "      <td>Tennessee</td>\n",
       "      <td>Women's Apparel</td>\n",
       "      <td>0.622778</td>\n",
       "    </tr>\n",
       "    <tr>\n",
       "      <th>30</th>\n",
       "      <td>Colorado</td>\n",
       "      <td>Men's Apparel</td>\n",
       "      <td>0.618333</td>\n",
       "    </tr>\n",
       "    <tr>\n",
       "      <th>129</th>\n",
       "      <td>Michigan</td>\n",
       "      <td>Women's Apparel</td>\n",
       "      <td>0.610000</td>\n",
       "    </tr>\n",
       "    <tr>\n",
       "      <th>4</th>\n",
       "      <td>Alabama</td>\n",
       "      <td>Women's Athletic Footwear</td>\n",
       "      <td>0.609444</td>\n",
       "    </tr>\n",
       "    <tr>\n",
       "      <th>162</th>\n",
       "      <td>Nevada</td>\n",
       "      <td>Men's Apparel</td>\n",
       "      <td>0.598333</td>\n",
       "    </tr>\n",
       "    <tr>\n",
       "      <th>24</th>\n",
       "      <td>California</td>\n",
       "      <td>Men's Apparel</td>\n",
       "      <td>0.578056</td>\n",
       "    </tr>\n",
       "    <tr>\n",
       "      <th>250</th>\n",
       "      <td>Tennessee</td>\n",
       "      <td>Women's Athletic Footwear</td>\n",
       "      <td>0.573056</td>\n",
       "    </tr>\n",
       "    <tr>\n",
       "      <th>224</th>\n",
       "      <td>Pennsylvania</td>\n",
       "      <td>Men's Street Footwear</td>\n",
       "      <td>0.572222</td>\n",
       "    </tr>\n",
       "  </tbody>\n",
       "</table>\n",
       "</div>"
      ],
      "text/plain": [
       "            State                    Product  Operating Margin\n",
       "3         Alabama            Women's Apparel          0.678889\n",
       "150       Montana              Men's Apparel          0.664583\n",
       "249     Tennessee            Women's Apparel          0.622778\n",
       "30       Colorado              Men's Apparel          0.618333\n",
       "129      Michigan            Women's Apparel          0.610000\n",
       "4         Alabama  Women's Athletic Footwear          0.609444\n",
       "162        Nevada              Men's Apparel          0.598333\n",
       "24     California              Men's Apparel          0.578056\n",
       "250     Tennessee  Women's Athletic Footwear          0.573056\n",
       "224  Pennsylvania      Men's Street Footwear          0.572222"
      ]
     },
     "execution_count": 19,
     "metadata": {},
     "output_type": "execute_result"
    }
   ],
   "source": [
    "df.groupby(['State', 'Product'])['Operating Margin'].mean().reset_index() \\\n",
    "  .sort_values('Operating Margin', ascending=False).head(10)"
   ]
  },
  {
   "cell_type": "markdown",
   "id": "4948a9a6",
   "metadata": {
    "papermill": {
     "duration": 0.014772,
     "end_time": "2025-01-11T12:36:04.242511",
     "exception": false,
     "start_time": "2025-01-11T12:36:04.227739",
     "status": "completed"
    },
    "tags": []
   },
   "source": [
    "## Prepare Data for ML/DL Models"
   ]
  },
  {
   "cell_type": "code",
   "execution_count": 20,
   "id": "d53aa429",
   "metadata": {
    "execution": {
     "iopub.execute_input": "2025-01-11T12:36:04.277707Z",
     "iopub.status.busy": "2025-01-11T12:36:04.277213Z",
     "iopub.status.idle": "2025-01-11T12:36:04.294159Z",
     "shell.execute_reply": "2025-01-11T12:36:04.293170Z"
    },
    "papermill": {
     "duration": 0.033991,
     "end_time": "2025-01-11T12:36:04.295957",
     "exception": false,
     "start_time": "2025-01-11T12:36:04.261966",
     "status": "completed"
    },
    "tags": []
   },
   "outputs": [
    {
     "data": {
      "text/html": [
       "<div>\n",
       "<style scoped>\n",
       "    .dataframe tbody tr th:only-of-type {\n",
       "        vertical-align: middle;\n",
       "    }\n",
       "\n",
       "    .dataframe tbody tr th {\n",
       "        vertical-align: top;\n",
       "    }\n",
       "\n",
       "    .dataframe thead th {\n",
       "        text-align: right;\n",
       "    }\n",
       "</style>\n",
       "<table border=\"1\" class=\"dataframe\">\n",
       "  <thead>\n",
       "    <tr style=\"text-align: right;\">\n",
       "      <th></th>\n",
       "      <th>Retailer</th>\n",
       "      <th>Invoice Date</th>\n",
       "      <th>Region</th>\n",
       "      <th>State</th>\n",
       "      <th>City</th>\n",
       "      <th>Product</th>\n",
       "      <th>Price per Unit</th>\n",
       "      <th>Units Sold</th>\n",
       "      <th>Total Sales</th>\n",
       "      <th>Operating Profit</th>\n",
       "      <th>Operating Margin</th>\n",
       "      <th>Sales Method</th>\n",
       "      <th>Month</th>\n",
       "      <th>Quarter</th>\n",
       "    </tr>\n",
       "  </thead>\n",
       "  <tbody>\n",
       "    <tr>\n",
       "      <th>0</th>\n",
       "      <td>Foot Locker</td>\n",
       "      <td>2020-01-01</td>\n",
       "      <td>Northeast</td>\n",
       "      <td>New York</td>\n",
       "      <td>New York</td>\n",
       "      <td>Men's Street Footwear</td>\n",
       "      <td>50.0</td>\n",
       "      <td>1200</td>\n",
       "      <td>600000.0</td>\n",
       "      <td>300000.0</td>\n",
       "      <td>0.50</td>\n",
       "      <td>In-store</td>\n",
       "      <td>2020-01</td>\n",
       "      <td>1</td>\n",
       "    </tr>\n",
       "    <tr>\n",
       "      <th>1</th>\n",
       "      <td>Foot Locker</td>\n",
       "      <td>2020-01-02</td>\n",
       "      <td>Northeast</td>\n",
       "      <td>New York</td>\n",
       "      <td>New York</td>\n",
       "      <td>Men's Athletic Footwear</td>\n",
       "      <td>50.0</td>\n",
       "      <td>1000</td>\n",
       "      <td>500000.0</td>\n",
       "      <td>150000.0</td>\n",
       "      <td>0.30</td>\n",
       "      <td>In-store</td>\n",
       "      <td>2020-01</td>\n",
       "      <td>1</td>\n",
       "    </tr>\n",
       "    <tr>\n",
       "      <th>2</th>\n",
       "      <td>Foot Locker</td>\n",
       "      <td>2020-01-03</td>\n",
       "      <td>Northeast</td>\n",
       "      <td>New York</td>\n",
       "      <td>New York</td>\n",
       "      <td>Women's Street Footwear</td>\n",
       "      <td>40.0</td>\n",
       "      <td>1000</td>\n",
       "      <td>400000.0</td>\n",
       "      <td>140000.0</td>\n",
       "      <td>0.35</td>\n",
       "      <td>In-store</td>\n",
       "      <td>2020-01</td>\n",
       "      <td>1</td>\n",
       "    </tr>\n",
       "    <tr>\n",
       "      <th>3</th>\n",
       "      <td>Foot Locker</td>\n",
       "      <td>2020-01-04</td>\n",
       "      <td>Northeast</td>\n",
       "      <td>New York</td>\n",
       "      <td>New York</td>\n",
       "      <td>Women's Athletic Footwear</td>\n",
       "      <td>45.0</td>\n",
       "      <td>850</td>\n",
       "      <td>382500.0</td>\n",
       "      <td>133875.0</td>\n",
       "      <td>0.35</td>\n",
       "      <td>In-store</td>\n",
       "      <td>2020-01</td>\n",
       "      <td>1</td>\n",
       "    </tr>\n",
       "    <tr>\n",
       "      <th>4</th>\n",
       "      <td>Foot Locker</td>\n",
       "      <td>2020-01-05</td>\n",
       "      <td>Northeast</td>\n",
       "      <td>New York</td>\n",
       "      <td>New York</td>\n",
       "      <td>Men's Apparel</td>\n",
       "      <td>60.0</td>\n",
       "      <td>900</td>\n",
       "      <td>540000.0</td>\n",
       "      <td>162000.0</td>\n",
       "      <td>0.30</td>\n",
       "      <td>In-store</td>\n",
       "      <td>2020-01</td>\n",
       "      <td>1</td>\n",
       "    </tr>\n",
       "  </tbody>\n",
       "</table>\n",
       "</div>"
      ],
      "text/plain": [
       "      Retailer Invoice Date     Region     State      City  \\\n",
       "0  Foot Locker   2020-01-01  Northeast  New York  New York   \n",
       "1  Foot Locker   2020-01-02  Northeast  New York  New York   \n",
       "2  Foot Locker   2020-01-03  Northeast  New York  New York   \n",
       "3  Foot Locker   2020-01-04  Northeast  New York  New York   \n",
       "4  Foot Locker   2020-01-05  Northeast  New York  New York   \n",
       "\n",
       "                     Product  Price per Unit  Units Sold  Total Sales  \\\n",
       "0      Men's Street Footwear            50.0        1200     600000.0   \n",
       "1    Men's Athletic Footwear            50.0        1000     500000.0   \n",
       "2    Women's Street Footwear            40.0        1000     400000.0   \n",
       "3  Women's Athletic Footwear            45.0         850     382500.0   \n",
       "4              Men's Apparel            60.0         900     540000.0   \n",
       "\n",
       "   Operating Profit  Operating Margin Sales Method    Month  Quarter  \n",
       "0          300000.0              0.50     In-store  2020-01        1  \n",
       "1          150000.0              0.30     In-store  2020-01        1  \n",
       "2          140000.0              0.35     In-store  2020-01        1  \n",
       "3          133875.0              0.35     In-store  2020-01        1  \n",
       "4          162000.0              0.30     In-store  2020-01        1  "
      ]
     },
     "execution_count": 20,
     "metadata": {},
     "output_type": "execute_result"
    }
   ],
   "source": [
    "df.head()"
   ]
  },
  {
   "cell_type": "code",
   "execution_count": 21,
   "id": "c93c8c99",
   "metadata": {
    "execution": {
     "iopub.execute_input": "2025-01-11T12:36:04.334408Z",
     "iopub.status.busy": "2025-01-11T12:36:04.333780Z",
     "iopub.status.idle": "2025-01-11T12:36:04.360766Z",
     "shell.execute_reply": "2025-01-11T12:36:04.357638Z"
    },
    "papermill": {
     "duration": 0.046973,
     "end_time": "2025-01-11T12:36:04.363346",
     "exception": false,
     "start_time": "2025-01-11T12:36:04.316373",
     "status": "completed"
    },
    "tags": []
   },
   "outputs": [
    {
     "data": {
      "text/html": [
       "<div>\n",
       "<style scoped>\n",
       "    .dataframe tbody tr th:only-of-type {\n",
       "        vertical-align: middle;\n",
       "    }\n",
       "\n",
       "    .dataframe tbody tr th {\n",
       "        vertical-align: top;\n",
       "    }\n",
       "\n",
       "    .dataframe thead th {\n",
       "        text-align: right;\n",
       "    }\n",
       "</style>\n",
       "<table border=\"1\" class=\"dataframe\">\n",
       "  <thead>\n",
       "    <tr style=\"text-align: right;\">\n",
       "      <th></th>\n",
       "      <th>Retailer</th>\n",
       "      <th>Region</th>\n",
       "      <th>State</th>\n",
       "      <th>City</th>\n",
       "      <th>Product</th>\n",
       "      <th>Price per Unit</th>\n",
       "      <th>Units Sold</th>\n",
       "      <th>Total Sales</th>\n",
       "      <th>Operating Profit</th>\n",
       "      <th>Operating Margin</th>\n",
       "      <th>Sales Method</th>\n",
       "    </tr>\n",
       "  </thead>\n",
       "  <tbody>\n",
       "    <tr>\n",
       "      <th>0</th>\n",
       "      <td>Foot Locker</td>\n",
       "      <td>Northeast</td>\n",
       "      <td>New York</td>\n",
       "      <td>New York</td>\n",
       "      <td>Men's Street Footwear</td>\n",
       "      <td>50.0</td>\n",
       "      <td>1200</td>\n",
       "      <td>600000.0</td>\n",
       "      <td>300000.0</td>\n",
       "      <td>0.50</td>\n",
       "      <td>In-store</td>\n",
       "    </tr>\n",
       "    <tr>\n",
       "      <th>1</th>\n",
       "      <td>Foot Locker</td>\n",
       "      <td>Northeast</td>\n",
       "      <td>New York</td>\n",
       "      <td>New York</td>\n",
       "      <td>Men's Athletic Footwear</td>\n",
       "      <td>50.0</td>\n",
       "      <td>1000</td>\n",
       "      <td>500000.0</td>\n",
       "      <td>150000.0</td>\n",
       "      <td>0.30</td>\n",
       "      <td>In-store</td>\n",
       "    </tr>\n",
       "    <tr>\n",
       "      <th>2</th>\n",
       "      <td>Foot Locker</td>\n",
       "      <td>Northeast</td>\n",
       "      <td>New York</td>\n",
       "      <td>New York</td>\n",
       "      <td>Women's Street Footwear</td>\n",
       "      <td>40.0</td>\n",
       "      <td>1000</td>\n",
       "      <td>400000.0</td>\n",
       "      <td>140000.0</td>\n",
       "      <td>0.35</td>\n",
       "      <td>In-store</td>\n",
       "    </tr>\n",
       "    <tr>\n",
       "      <th>3</th>\n",
       "      <td>Foot Locker</td>\n",
       "      <td>Northeast</td>\n",
       "      <td>New York</td>\n",
       "      <td>New York</td>\n",
       "      <td>Women's Athletic Footwear</td>\n",
       "      <td>45.0</td>\n",
       "      <td>850</td>\n",
       "      <td>382500.0</td>\n",
       "      <td>133875.0</td>\n",
       "      <td>0.35</td>\n",
       "      <td>In-store</td>\n",
       "    </tr>\n",
       "    <tr>\n",
       "      <th>4</th>\n",
       "      <td>Foot Locker</td>\n",
       "      <td>Northeast</td>\n",
       "      <td>New York</td>\n",
       "      <td>New York</td>\n",
       "      <td>Men's Apparel</td>\n",
       "      <td>60.0</td>\n",
       "      <td>900</td>\n",
       "      <td>540000.0</td>\n",
       "      <td>162000.0</td>\n",
       "      <td>0.30</td>\n",
       "      <td>In-store</td>\n",
       "    </tr>\n",
       "  </tbody>\n",
       "</table>\n",
       "</div>"
      ],
      "text/plain": [
       "      Retailer     Region     State      City                    Product  \\\n",
       "0  Foot Locker  Northeast  New York  New York      Men's Street Footwear   \n",
       "1  Foot Locker  Northeast  New York  New York    Men's Athletic Footwear   \n",
       "2  Foot Locker  Northeast  New York  New York    Women's Street Footwear   \n",
       "3  Foot Locker  Northeast  New York  New York  Women's Athletic Footwear   \n",
       "4  Foot Locker  Northeast  New York  New York              Men's Apparel   \n",
       "\n",
       "   Price per Unit  Units Sold  Total Sales  Operating Profit  \\\n",
       "0            50.0        1200     600000.0          300000.0   \n",
       "1            50.0        1000     500000.0          150000.0   \n",
       "2            40.0        1000     400000.0          140000.0   \n",
       "3            45.0         850     382500.0          133875.0   \n",
       "4            60.0         900     540000.0          162000.0   \n",
       "\n",
       "   Operating Margin Sales Method  \n",
       "0              0.50     In-store  \n",
       "1              0.30     In-store  \n",
       "2              0.35     In-store  \n",
       "3              0.35     In-store  \n",
       "4              0.30     In-store  "
      ]
     },
     "execution_count": 21,
     "metadata": {},
     "output_type": "execute_result"
    }
   ],
   "source": [
    "df.drop(columns=['Invoice Date','Month','Quarter'],inplace=True)\n",
    "df.head()"
   ]
  },
  {
   "cell_type": "code",
   "execution_count": 22,
   "id": "329a45b8",
   "metadata": {
    "execution": {
     "iopub.execute_input": "2025-01-11T12:36:04.406967Z",
     "iopub.status.busy": "2025-01-11T12:36:04.406624Z",
     "iopub.status.idle": "2025-01-11T12:36:04.419214Z",
     "shell.execute_reply": "2025-01-11T12:36:04.418010Z"
    },
    "papermill": {
     "duration": 0.038293,
     "end_time": "2025-01-11T12:36:04.421135",
     "exception": false,
     "start_time": "2025-01-11T12:36:04.382842",
     "status": "completed"
    },
    "tags": []
   },
   "outputs": [
    {
     "name": "stdout",
     "output_type": "stream",
     "text": [
      "Unique Elements in Retailer => ['Foot Locker' 'Walmart' 'Sports Direct' 'West Gear' \"Kohl's\" 'Amazon']\n",
      "\n",
      "Unique Elements in Region => ['Northeast' 'South' 'West' 'Midwest' 'Southeast']\n",
      "\n",
      "Unique Elements in State => ['New York' 'Texas' 'California' 'Illinois' 'Pennsylvania' 'Nevada'\n",
      " 'Colorado' 'Washington' 'Florida' 'Minnesota' 'Montana' 'Tennessee'\n",
      " 'Nebraska' 'Alabama' 'Maine' 'Alaska' 'Hawaii' 'Wyoming' 'Virginia'\n",
      " 'Michigan' 'Missouri' 'Utah' 'Oregon' 'Louisiana' 'Idaho' 'Arizona'\n",
      " 'New Mexico' 'Georgia' 'South Carolina' 'North Carolina' 'Ohio'\n",
      " 'Kentucky' 'Mississippi' 'Arkansas' 'Oklahoma' 'Kansas' 'South Dakota'\n",
      " 'North Dakota' 'Iowa' 'Wisconsin' 'Indiana' 'West Virginia' 'Maryland'\n",
      " 'Delaware' 'New Jersey' 'Connecticut' 'Rhode Island' 'Massachusetts'\n",
      " 'Vermont' 'New Hampshire']\n",
      "\n",
      "Unique Elements in Product => [\"Men's Street Footwear\" \"Men's Athletic Footwear\"\n",
      " \"Women's Street Footwear\" \"Women's Athletic Footwear\" \"Men's Apparel\"\n",
      " \"Women's Apparel\"]\n",
      "\n",
      "Unique Elements in Sales Method => ['In-store' 'Outlet' 'Online']\n"
     ]
    }
   ],
   "source": [
    "print(\"Unique Elements in Retailer =>\",df['Retailer'].unique())\n",
    "print(\"\\nUnique Elements in Region =>\",df['Region'].unique())\n",
    "print(\"\\nUnique Elements in State =>\",df['State'].unique())\n",
    "print(\"\\nUnique Elements in Product =>\",df['Product'].unique())\n",
    "print(\"\\nUnique Elements in Sales Method =>\",df['Sales Method'].unique())"
   ]
  },
  {
   "cell_type": "markdown",
   "id": "ca5c7f9c",
   "metadata": {
    "papermill": {
     "duration": 0.01487,
     "end_time": "2025-01-11T12:36:04.451723",
     "exception": false,
     "start_time": "2025-01-11T12:36:04.436853",
     "status": "completed"
    },
    "tags": []
   },
   "source": [
    "### Encoding Categorical Variables"
   ]
  },
  {
   "cell_type": "code",
   "execution_count": 23,
   "id": "43dc28fe",
   "metadata": {
    "execution": {
     "iopub.execute_input": "2025-01-11T12:36:04.482551Z",
     "iopub.status.busy": "2025-01-11T12:36:04.482159Z",
     "iopub.status.idle": "2025-01-11T12:36:04.668040Z",
     "shell.execute_reply": "2025-01-11T12:36:04.666940Z"
    },
    "papermill": {
     "duration": 0.203778,
     "end_time": "2025-01-11T12:36:04.669967",
     "exception": false,
     "start_time": "2025-01-11T12:36:04.466189",
     "status": "completed"
    },
    "tags": []
   },
   "outputs": [
    {
     "data": {
      "text/html": [
       "<div>\n",
       "<style scoped>\n",
       "    .dataframe tbody tr th:only-of-type {\n",
       "        vertical-align: middle;\n",
       "    }\n",
       "\n",
       "    .dataframe tbody tr th {\n",
       "        vertical-align: top;\n",
       "    }\n",
       "\n",
       "    .dataframe thead th {\n",
       "        text-align: right;\n",
       "    }\n",
       "</style>\n",
       "<table border=\"1\" class=\"dataframe\">\n",
       "  <thead>\n",
       "    <tr style=\"text-align: right;\">\n",
       "      <th></th>\n",
       "      <th>Retailer</th>\n",
       "      <th>Region</th>\n",
       "      <th>State</th>\n",
       "      <th>City</th>\n",
       "      <th>Product</th>\n",
       "      <th>Price per Unit</th>\n",
       "      <th>Units Sold</th>\n",
       "      <th>Total Sales</th>\n",
       "      <th>Operating Profit</th>\n",
       "      <th>Operating Margin</th>\n",
       "      <th>Sales Method</th>\n",
       "    </tr>\n",
       "  </thead>\n",
       "  <tbody>\n",
       "    <tr>\n",
       "      <th>0</th>\n",
       "      <td>1</td>\n",
       "      <td>1</td>\n",
       "      <td>31</td>\n",
       "      <td>35</td>\n",
       "      <td>2</td>\n",
       "      <td>50.0</td>\n",
       "      <td>1200</td>\n",
       "      <td>600000.0</td>\n",
       "      <td>300000.0</td>\n",
       "      <td>0.50</td>\n",
       "      <td>0</td>\n",
       "    </tr>\n",
       "    <tr>\n",
       "      <th>1</th>\n",
       "      <td>1</td>\n",
       "      <td>1</td>\n",
       "      <td>31</td>\n",
       "      <td>35</td>\n",
       "      <td>1</td>\n",
       "      <td>50.0</td>\n",
       "      <td>1000</td>\n",
       "      <td>500000.0</td>\n",
       "      <td>150000.0</td>\n",
       "      <td>0.30</td>\n",
       "      <td>0</td>\n",
       "    </tr>\n",
       "    <tr>\n",
       "      <th>2</th>\n",
       "      <td>1</td>\n",
       "      <td>1</td>\n",
       "      <td>31</td>\n",
       "      <td>35</td>\n",
       "      <td>5</td>\n",
       "      <td>40.0</td>\n",
       "      <td>1000</td>\n",
       "      <td>400000.0</td>\n",
       "      <td>140000.0</td>\n",
       "      <td>0.35</td>\n",
       "      <td>0</td>\n",
       "    </tr>\n",
       "    <tr>\n",
       "      <th>3</th>\n",
       "      <td>1</td>\n",
       "      <td>1</td>\n",
       "      <td>31</td>\n",
       "      <td>35</td>\n",
       "      <td>4</td>\n",
       "      <td>45.0</td>\n",
       "      <td>850</td>\n",
       "      <td>382500.0</td>\n",
       "      <td>133875.0</td>\n",
       "      <td>0.35</td>\n",
       "      <td>0</td>\n",
       "    </tr>\n",
       "    <tr>\n",
       "      <th>4</th>\n",
       "      <td>1</td>\n",
       "      <td>1</td>\n",
       "      <td>31</td>\n",
       "      <td>35</td>\n",
       "      <td>0</td>\n",
       "      <td>60.0</td>\n",
       "      <td>900</td>\n",
       "      <td>540000.0</td>\n",
       "      <td>162000.0</td>\n",
       "      <td>0.30</td>\n",
       "      <td>0</td>\n",
       "    </tr>\n",
       "  </tbody>\n",
       "</table>\n",
       "</div>"
      ],
      "text/plain": [
       "   Retailer  Region  State  City  Product  Price per Unit  Units Sold  \\\n",
       "0         1       1     31    35        2            50.0        1200   \n",
       "1         1       1     31    35        1            50.0        1000   \n",
       "2         1       1     31    35        5            40.0        1000   \n",
       "3         1       1     31    35        4            45.0         850   \n",
       "4         1       1     31    35        0            60.0         900   \n",
       "\n",
       "   Total Sales  Operating Profit  Operating Margin  Sales Method  \n",
       "0     600000.0          300000.0              0.50             0  \n",
       "1     500000.0          150000.0              0.30             0  \n",
       "2     400000.0          140000.0              0.35             0  \n",
       "3     382500.0          133875.0              0.35             0  \n",
       "4     540000.0          162000.0              0.30             0  "
      ]
     },
     "execution_count": 23,
     "metadata": {},
     "output_type": "execute_result"
    }
   ],
   "source": [
    "from sklearn.preprocessing import LabelEncoder\n",
    "\n",
    "label_encoder = LabelEncoder()\n",
    "\n",
    "# Columns to encode\n",
    "categorical_columns = ['Retailer', 'Region', 'State', 'City', 'Product', 'Sales Method']\n",
    "\n",
    "# Apply label encoding\n",
    "for col in categorical_columns:\n",
    "    df[col] = label_encoder.fit_transform(df[col])\n",
    "\n",
    "df.head()"
   ]
  },
  {
   "cell_type": "markdown",
   "id": "45cf48eb",
   "metadata": {
    "papermill": {
     "duration": 0.020029,
     "end_time": "2025-01-11T12:36:04.705783",
     "exception": false,
     "start_time": "2025-01-11T12:36:04.685754",
     "status": "completed"
    },
    "tags": []
   },
   "source": [
    "## Total Sales Prediction (Regression Model)"
   ]
  },
  {
   "cell_type": "code",
   "execution_count": 24,
   "id": "3bff55d6",
   "metadata": {
    "execution": {
     "iopub.execute_input": "2025-01-11T12:36:04.742864Z",
     "iopub.status.busy": "2025-01-11T12:36:04.742508Z",
     "iopub.status.idle": "2025-01-11T12:36:07.674905Z",
     "shell.execute_reply": "2025-01-11T12:36:07.673954Z"
    },
    "papermill": {
     "duration": 2.952304,
     "end_time": "2025-01-11T12:36:07.676759",
     "exception": false,
     "start_time": "2025-01-11T12:36:04.724455",
     "status": "completed"
    },
    "tags": []
   },
   "outputs": [],
   "source": [
    "from sklearn.model_selection import train_test_split,StratifiedKFold\n",
    "from sklearn.metrics import  log_loss\n",
    "\n",
    "from sklearn.ensemble import VotingRegressor\n",
    "from sklearn.ensemble import RandomForestRegressor\n",
    "from xgboost import XGBRegressor\n",
    "from lightgbm import LGBMRegressor\n",
    "\n",
    "from sklearn.compose import ColumnTransformer\n",
    "from sklearn.pipeline import Pipeline\n",
    "from sklearn.preprocessing import PowerTransformer, StandardScaler, OneHotEncoder\n",
    "from sklearn.ensemble import StackingRegressor\n",
    "from sklearn.linear_model import LinearRegression\n",
    "from sklearn.metrics import r2_score"
   ]
  },
  {
   "cell_type": "code",
   "execution_count": 25,
   "id": "5e4b4dc5",
   "metadata": {
    "execution": {
     "iopub.execute_input": "2025-01-11T12:36:07.711665Z",
     "iopub.status.busy": "2025-01-11T12:36:07.710949Z",
     "iopub.status.idle": "2025-01-11T12:36:07.725987Z",
     "shell.execute_reply": "2025-01-11T12:36:07.724797Z"
    },
    "papermill": {
     "duration": 0.035816,
     "end_time": "2025-01-11T12:36:07.727705",
     "exception": false,
     "start_time": "2025-01-11T12:36:07.691889",
     "status": "completed"
    },
    "tags": []
   },
   "outputs": [
    {
     "data": {
      "text/html": [
       "<div>\n",
       "<style scoped>\n",
       "    .dataframe tbody tr th:only-of-type {\n",
       "        vertical-align: middle;\n",
       "    }\n",
       "\n",
       "    .dataframe tbody tr th {\n",
       "        vertical-align: top;\n",
       "    }\n",
       "\n",
       "    .dataframe thead th {\n",
       "        text-align: right;\n",
       "    }\n",
       "</style>\n",
       "<table border=\"1\" class=\"dataframe\">\n",
       "  <thead>\n",
       "    <tr style=\"text-align: right;\">\n",
       "      <th></th>\n",
       "      <th>Retailer</th>\n",
       "      <th>Region</th>\n",
       "      <th>State</th>\n",
       "      <th>City</th>\n",
       "      <th>Product</th>\n",
       "      <th>Price per Unit</th>\n",
       "      <th>Units Sold</th>\n",
       "      <th>Total Sales</th>\n",
       "      <th>Operating Profit</th>\n",
       "      <th>Operating Margin</th>\n",
       "      <th>Sales Method</th>\n",
       "    </tr>\n",
       "  </thead>\n",
       "  <tbody>\n",
       "    <tr>\n",
       "      <th>0</th>\n",
       "      <td>1</td>\n",
       "      <td>1</td>\n",
       "      <td>31</td>\n",
       "      <td>35</td>\n",
       "      <td>2</td>\n",
       "      <td>50.0</td>\n",
       "      <td>1200</td>\n",
       "      <td>600000.0</td>\n",
       "      <td>300000.0</td>\n",
       "      <td>0.50</td>\n",
       "      <td>0</td>\n",
       "    </tr>\n",
       "    <tr>\n",
       "      <th>1</th>\n",
       "      <td>1</td>\n",
       "      <td>1</td>\n",
       "      <td>31</td>\n",
       "      <td>35</td>\n",
       "      <td>1</td>\n",
       "      <td>50.0</td>\n",
       "      <td>1000</td>\n",
       "      <td>500000.0</td>\n",
       "      <td>150000.0</td>\n",
       "      <td>0.30</td>\n",
       "      <td>0</td>\n",
       "    </tr>\n",
       "    <tr>\n",
       "      <th>2</th>\n",
       "      <td>1</td>\n",
       "      <td>1</td>\n",
       "      <td>31</td>\n",
       "      <td>35</td>\n",
       "      <td>5</td>\n",
       "      <td>40.0</td>\n",
       "      <td>1000</td>\n",
       "      <td>400000.0</td>\n",
       "      <td>140000.0</td>\n",
       "      <td>0.35</td>\n",
       "      <td>0</td>\n",
       "    </tr>\n",
       "    <tr>\n",
       "      <th>3</th>\n",
       "      <td>1</td>\n",
       "      <td>1</td>\n",
       "      <td>31</td>\n",
       "      <td>35</td>\n",
       "      <td>4</td>\n",
       "      <td>45.0</td>\n",
       "      <td>850</td>\n",
       "      <td>382500.0</td>\n",
       "      <td>133875.0</td>\n",
       "      <td>0.35</td>\n",
       "      <td>0</td>\n",
       "    </tr>\n",
       "    <tr>\n",
       "      <th>4</th>\n",
       "      <td>1</td>\n",
       "      <td>1</td>\n",
       "      <td>31</td>\n",
       "      <td>35</td>\n",
       "      <td>0</td>\n",
       "      <td>60.0</td>\n",
       "      <td>900</td>\n",
       "      <td>540000.0</td>\n",
       "      <td>162000.0</td>\n",
       "      <td>0.30</td>\n",
       "      <td>0</td>\n",
       "    </tr>\n",
       "  </tbody>\n",
       "</table>\n",
       "</div>"
      ],
      "text/plain": [
       "   Retailer  Region  State  City  Product  Price per Unit  Units Sold  \\\n",
       "0         1       1     31    35        2            50.0        1200   \n",
       "1         1       1     31    35        1            50.0        1000   \n",
       "2         1       1     31    35        5            40.0        1000   \n",
       "3         1       1     31    35        4            45.0         850   \n",
       "4         1       1     31    35        0            60.0         900   \n",
       "\n",
       "   Total Sales  Operating Profit  Operating Margin  Sales Method  \n",
       "0     600000.0          300000.0              0.50             0  \n",
       "1     500000.0          150000.0              0.30             0  \n",
       "2     400000.0          140000.0              0.35             0  \n",
       "3     382500.0          133875.0              0.35             0  \n",
       "4     540000.0          162000.0              0.30             0  "
      ]
     },
     "execution_count": 25,
     "metadata": {},
     "output_type": "execute_result"
    }
   ],
   "source": [
    "df1 = df.copy()\n",
    "df1.head()"
   ]
  },
  {
   "cell_type": "code",
   "execution_count": 26,
   "id": "141eb1b6",
   "metadata": {
    "execution": {
     "iopub.execute_input": "2025-01-11T12:36:07.758526Z",
     "iopub.status.busy": "2025-01-11T12:36:07.758151Z",
     "iopub.status.idle": "2025-01-11T12:36:07.763723Z",
     "shell.execute_reply": "2025-01-11T12:36:07.762702Z"
    },
    "papermill": {
     "duration": 0.02298,
     "end_time": "2025-01-11T12:36:07.765618",
     "exception": false,
     "start_time": "2025-01-11T12:36:07.742638",
     "status": "completed"
    },
    "tags": []
   },
   "outputs": [],
   "source": [
    "X = df1.drop(columns=['Total Sales'])\n",
    "y = df1['Total Sales']"
   ]
  },
  {
   "cell_type": "code",
   "execution_count": 27,
   "id": "99302ff8",
   "metadata": {
    "execution": {
     "iopub.execute_input": "2025-01-11T12:36:07.797357Z",
     "iopub.status.busy": "2025-01-11T12:36:07.796989Z",
     "iopub.status.idle": "2025-01-11T12:36:07.814293Z",
     "shell.execute_reply": "2025-01-11T12:36:07.812971Z"
    },
    "papermill": {
     "duration": 0.034941,
     "end_time": "2025-01-11T12:36:07.816121",
     "exception": false,
     "start_time": "2025-01-11T12:36:07.781180",
     "status": "completed"
    },
    "tags": []
   },
   "outputs": [
    {
     "data": {
      "text/html": [
       "<div>\n",
       "<style scoped>\n",
       "    .dataframe tbody tr th:only-of-type {\n",
       "        vertical-align: middle;\n",
       "    }\n",
       "\n",
       "    .dataframe tbody tr th {\n",
       "        vertical-align: top;\n",
       "    }\n",
       "\n",
       "    .dataframe thead th {\n",
       "        text-align: right;\n",
       "    }\n",
       "</style>\n",
       "<table border=\"1\" class=\"dataframe\">\n",
       "  <thead>\n",
       "    <tr style=\"text-align: right;\">\n",
       "      <th></th>\n",
       "      <th>Retailer</th>\n",
       "      <th>Region</th>\n",
       "      <th>State</th>\n",
       "      <th>City</th>\n",
       "      <th>Product</th>\n",
       "      <th>Price per Unit</th>\n",
       "      <th>Units Sold</th>\n",
       "      <th>Operating Profit</th>\n",
       "      <th>Operating Margin</th>\n",
       "      <th>Sales Method</th>\n",
       "    </tr>\n",
       "  </thead>\n",
       "  <tbody>\n",
       "    <tr>\n",
       "      <th>3542</th>\n",
       "      <td>3</td>\n",
       "      <td>1</td>\n",
       "      <td>6</td>\n",
       "      <td>20</td>\n",
       "      <td>3</td>\n",
       "      <td>40.0</td>\n",
       "      <td>275</td>\n",
       "      <td>38500.0</td>\n",
       "      <td>0.35</td>\n",
       "      <td>0</td>\n",
       "    </tr>\n",
       "    <tr>\n",
       "      <th>3400</th>\n",
       "      <td>1</td>\n",
       "      <td>1</td>\n",
       "      <td>7</td>\n",
       "      <td>51</td>\n",
       "      <td>1</td>\n",
       "      <td>50.0</td>\n",
       "      <td>275</td>\n",
       "      <td>48125.0</td>\n",
       "      <td>0.35</td>\n",
       "      <td>0</td>\n",
       "    </tr>\n",
       "    <tr>\n",
       "      <th>30</th>\n",
       "      <td>1</td>\n",
       "      <td>1</td>\n",
       "      <td>31</td>\n",
       "      <td>35</td>\n",
       "      <td>2</td>\n",
       "      <td>60.0</td>\n",
       "      <td>1250</td>\n",
       "      <td>375000.0</td>\n",
       "      <td>0.50</td>\n",
       "      <td>2</td>\n",
       "    </tr>\n",
       "  </tbody>\n",
       "</table>\n",
       "</div>"
      ],
      "text/plain": [
       "      Retailer  Region  State  City  Product  Price per Unit  Units Sold  \\\n",
       "3542         3       1      6    20        3            40.0         275   \n",
       "3400         1       1      7    51        1            50.0         275   \n",
       "30           1       1     31    35        2            60.0        1250   \n",
       "\n",
       "      Operating Profit  Operating Margin  Sales Method  \n",
       "3542           38500.0              0.35             0  \n",
       "3400           48125.0              0.35             0  \n",
       "30            375000.0              0.50             2  "
      ]
     },
     "execution_count": 27,
     "metadata": {},
     "output_type": "execute_result"
    }
   ],
   "source": [
    "from sklearn.model_selection import train_test_split\n",
    "\n",
    "X_train, X_test, y_train, y_test = train_test_split(X,y,test_size=0.2,random_state=42)\n",
    "X_train.head(3)"
   ]
  },
  {
   "cell_type": "code",
   "execution_count": 28,
   "id": "03e6fdcc",
   "metadata": {
    "execution": {
     "iopub.execute_input": "2025-01-11T12:36:07.847972Z",
     "iopub.status.busy": "2025-01-11T12:36:07.847513Z",
     "iopub.status.idle": "2025-01-11T12:36:07.983486Z",
     "shell.execute_reply": "2025-01-11T12:36:07.982133Z"
    },
    "papermill": {
     "duration": 0.154395,
     "end_time": "2025-01-11T12:36:07.985576",
     "exception": false,
     "start_time": "2025-01-11T12:36:07.831181",
     "status": "completed"
    },
    "tags": []
   },
   "outputs": [],
   "source": [
    "from sklearn.preprocessing import StandardScaler,PowerTransformer\n",
    "\n",
    "pt = PowerTransformer()\n",
    "X_train_tf = pt.fit_transform(X_train)\n",
    "X_test_tf = pt.transform(X_test)"
   ]
  },
  {
   "cell_type": "code",
   "execution_count": 29,
   "id": "4cd814a9",
   "metadata": {
    "execution": {
     "iopub.execute_input": "2025-01-11T12:36:08.018297Z",
     "iopub.status.busy": "2025-01-11T12:36:08.017954Z",
     "iopub.status.idle": "2025-01-11T12:36:14.795078Z",
     "shell.execute_reply": "2025-01-11T12:36:14.793964Z"
    },
    "papermill": {
     "duration": 6.79576,
     "end_time": "2025-01-11T12:36:14.796966",
     "exception": false,
     "start_time": "2025-01-11T12:36:08.001206",
     "status": "completed"
    },
    "tags": []
   },
   "outputs": [
    {
     "name": "stderr",
     "output_type": "stream",
     "text": [
      "/usr/local/lib/python3.10/dist-packages/seaborn/_oldcore.py:1119: FutureWarning: use_inf_as_na option is deprecated and will be removed in a future version. Convert inf values to NaN before operating instead.\n",
      "  with pd.option_context('mode.use_inf_as_na', True):\n",
      "/usr/local/lib/python3.10/dist-packages/seaborn/_oldcore.py:1119: FutureWarning: use_inf_as_na option is deprecated and will be removed in a future version. Convert inf values to NaN before operating instead.\n",
      "  with pd.option_context('mode.use_inf_as_na', True):\n"
     ]
    },
    {
     "data": {
      "image/png": "[encoded data removed]",
      "text/plain": [
       "<Figure size 1400x400 with 2 Axes>"
      ]
     },
     "metadata": {},
     "output_type": "display_data"
    },
    {
     "name": "stderr",
     "output_type": "stream",
     "text": [
      "/usr/local/lib/python3.10/dist-packages/seaborn/_oldcore.py:1119: FutureWarning: use_inf_as_na option is deprecated and will be removed in a future version. Convert inf values to NaN before operating instead.\n",
      "  with pd.option_context('mode.use_inf_as_na', True):\n",
      "/usr/local/lib/python3.10/dist-packages/seaborn/_oldcore.py:1119: FutureWarning: use_inf_as_na option is deprecated and will be removed in a future version. Convert inf values to NaN before operating instead.\n",
      "  with pd.option_context('mode.use_inf_as_na', True):\n"
     ]
    },
    {
     "data": {
      "image/png": "[encoded data removed]",
      "text/plain": [
       "<Figure size 1400x400 with 2 Axes>"
      ]
     },
     "metadata": {},
     "output_type": "display_data"
    },
    {
     "name": "stderr",
     "output_type": "stream",
     "text": [
      "/usr/local/lib/python3.10/dist-packages/seaborn/_oldcore.py:1119: FutureWarning: use_inf_as_na option is deprecated and will be removed in a future version. Convert inf values to NaN before operating instead.\n",
      "  with pd.option_context('mode.use_inf_as_na', True):\n",
      "/usr/local/lib/python3.10/dist-packages/seaborn/_oldcore.py:1119: FutureWarning: use_inf_as_na option is deprecated and will be removed in a future version. Convert inf values to NaN before operating instead.\n",
      "  with pd.option_context('mode.use_inf_as_na', True):\n"
     ]
    },
    {
     "data": {
      "image/png": "[encoded data removed]",
      "text/plain": [
       "<Figure size 1400x400 with 2 Axes>"
      ]
     },
     "metadata": {},
     "output_type": "display_data"
    },
    {
     "name": "stderr",
     "output_type": "stream",
     "text": [
      "/usr/local/lib/python3.10/dist-packages/seaborn/_oldcore.py:1119: FutureWarning: use_inf_as_na option is deprecated and will be removed in a future version. Convert inf values to NaN before operating instead.\n",
      "  with pd.option_context('mode.use_inf_as_na', True):\n",
      "/usr/local/lib/python3.10/dist-packages/seaborn/_oldcore.py:1119: FutureWarning: use_inf_as_na option is deprecated and will be removed in a future version. Convert inf values to NaN before operating instead.\n",
      "  with pd.option_context('mode.use_inf_as_na', True):\n"
     ]
    },
    {
     "data": {
      "image/png": "[encoded data removed]",
      "text/plain": [
       "<Figure size 1400x400 with 2 Axes>"
      ]
     },
     "metadata": {},
     "output_type": "display_data"
    },
    {
     "name": "stderr",
     "output_type": "stream",
     "text": [
      "/usr/local/lib/python3.10/dist-packages/seaborn/_oldcore.py:1119: FutureWarning: use_inf_as_na option is deprecated and will be removed in a future version. Convert inf values to NaN before operating instead.\n",
      "  with pd.option_context('mode.use_inf_as_na', True):\n",
      "/usr/local/lib/python3.10/dist-packages/seaborn/_oldcore.py:1119: FutureWarning: use_inf_as_na option is deprecated and will be removed in a future version. Convert inf values to NaN before operating instead.\n",
      "  with pd.option_context('mode.use_inf_as_na', True):\n"
     ]
    },
    {
     "data": {
      "image/png": "[encoded data removed]",
      "text/plain": [
       "<Figure size 1400x400 with 2 Axes>"
      ]
     },
     "metadata": {},
     "output_type": "display_data"
    },
    {
     "name": "stderr",
     "output_type": "stream",
     "text": [
      "/usr/local/lib/python3.10/dist-packages/seaborn/_oldcore.py:1119: FutureWarning: use_inf_as_na option is deprecated and will be removed in a future version. Convert inf values to NaN before operating instead.\n",
      "  with pd.option_context('mode.use_inf_as_na', True):\n",
      "/usr/local/lib/python3.10/dist-packages/seaborn/_oldcore.py:1119: FutureWarning: use_inf_as_na option is deprecated and will be removed in a future version. Convert inf values to NaN before operating instead.\n",
      "  with pd.option_context('mode.use_inf_as_na', True):\n"
     ]
    },
    {
     "data": {
      "image/png": "[encoded data removed]",
      "text/plain": [
       "<Figure size 1400x400 with 2 Axes>"
      ]
     },
     "metadata": {},
     "output_type": "display_data"
    },
    {
     "name": "stderr",
     "output_type": "stream",
     "text": [
      "/usr/local/lib/python3.10/dist-packages/seaborn/_oldcore.py:1119: FutureWarning: use_inf_as_na option is deprecated and will be removed in a future version. Convert inf values to NaN before operating instead.\n",
      "  with pd.option_context('mode.use_inf_as_na', True):\n",
      "/usr/local/lib/python3.10/dist-packages/seaborn/_oldcore.py:1119: FutureWarning: use_inf_as_na option is deprecated and will be removed in a future version. Convert inf values to NaN before operating instead.\n",
      "  with pd.option_context('mode.use_inf_as_na', True):\n"
     ]
    },
    {
     "data": {
      "image/png": "[encoded data removed]",
      "text/plain": [
       "<Figure size 1400x400 with 2 Axes>"
      ]
     },
     "metadata": {},
     "output_type": "display_data"
    },
    {
     "name": "stderr",
     "output_type": "stream",
     "text": [
      "/usr/local/lib/python3.10/dist-packages/seaborn/_oldcore.py:1119: FutureWarning: use_inf_as_na option is deprecated and will be removed in a future version. Convert inf values to NaN before operating instead.\n",
      "  with pd.option_context('mode.use_inf_as_na', True):\n",
      "/usr/local/lib/python3.10/dist-packages/seaborn/_oldcore.py:1119: FutureWarning: use_inf_as_na option is deprecated and will be removed in a future version. Convert inf values to NaN before operating instead.\n",
      "  with pd.option_context('mode.use_inf_as_na', True):\n"
     ]
    },
    {
     "data": {
      "image/png": "[encoded data removed]",
      "text/plain": [
       "<Figure size 1400x400 with 2 Axes>"
      ]
     },
     "metadata": {},
     "output_type": "display_data"
    },
    {
     "name": "stderr",
     "output_type": "stream",
     "text": [
      "/usr/local/lib/python3.10/dist-packages/seaborn/_oldcore.py:1119: FutureWarning: use_inf_as_na option is deprecated and will be removed in a future version. Convert inf values to NaN before operating instead.\n",
      "  with pd.option_context('mode.use_inf_as_na', True):\n",
      "/usr/local/lib/python3.10/dist-packages/seaborn/_oldcore.py:1119: FutureWarning: use_inf_as_na option is deprecated and will be removed in a future version. Convert inf values to NaN before operating instead.\n",
      "  with pd.option_context('mode.use_inf_as_na', True):\n"
     ]
    },
    {
     "data": {
      "image/png": "[encoded data removed]",
      "text/plain": [
       "<Figure size 1400x400 with 2 Axes>"
      ]
     },
     "metadata": {},
     "output_type": "display_data"
    },
    {
     "name": "stderr",
     "output_type": "stream",
     "text": [
      "/usr/local/lib/python3.10/dist-packages/seaborn/_oldcore.py:1119: FutureWarning: use_inf_as_na option is deprecated and will be removed in a future version. Convert inf values to NaN before operating instead.\n",
      "  with pd.option_context('mode.use_inf_as_na', True):\n",
      "/usr/local/lib/python3.10/dist-packages/seaborn/_oldcore.py:1119: FutureWarning: use_inf_as_na option is deprecated and will be removed in a future version. Convert inf values to NaN before operating instead.\n",
      "  with pd.option_context('mode.use_inf_as_na', True):\n"
     ]
    },
    {
     "data": {
      "image/png": "[encoded data removed]",
      "text/plain": [
       "<Figure size 1400x400 with 2 Axes>"
      ]
     },
     "metadata": {},
     "output_type": "display_data"
    }
   ],
   "source": [
    "# Before and after comparision for Yeo-Johnson\n",
    "X_train_tf = pd.DataFrame(X_train_tf,columns=X_train.columns)\n",
    "\n",
    "for col in X_train_tf.columns:\n",
    "    plt.figure(figsize=(14,4))\n",
    "    plt.subplot(121)\n",
    "    sns.histplot(X_train[col],kde=True)\n",
    "    plt.title(col)\n",
    "\n",
    "    plt.subplot(122)\n",
    "    sns.histplot(X_train_tf[col],kde=True)\n",
    "    plt.title(col)\n",
    "\n",
    "    plt.show()"
   ]
  },
  {
   "cell_type": "code",
   "execution_count": 30,
   "id": "b00d7d0d",
   "metadata": {
    "execution": {
     "iopub.execute_input": "2025-01-11T12:36:14.850875Z",
     "iopub.status.busy": "2025-01-11T12:36:14.850459Z",
     "iopub.status.idle": "2025-01-11T12:36:14.867863Z",
     "shell.execute_reply": "2025-01-11T12:36:14.866793Z"
    },
    "papermill": {
     "duration": 0.045751,
     "end_time": "2025-01-11T12:36:14.869615",
     "exception": false,
     "start_time": "2025-01-11T12:36:14.823864",
     "status": "completed"
    },
    "tags": []
   },
   "outputs": [
    {
     "data": {
      "text/html": [
       "<div>\n",
       "<style scoped>\n",
       "    .dataframe tbody tr th:only-of-type {\n",
       "        vertical-align: middle;\n",
       "    }\n",
       "\n",
       "    .dataframe tbody tr th {\n",
       "        vertical-align: top;\n",
       "    }\n",
       "\n",
       "    .dataframe thead th {\n",
       "        text-align: right;\n",
       "    }\n",
       "</style>\n",
       "<table border=\"1\" class=\"dataframe\">\n",
       "  <thead>\n",
       "    <tr style=\"text-align: right;\">\n",
       "      <th></th>\n",
       "      <th>Retailer</th>\n",
       "      <th>Region</th>\n",
       "      <th>State</th>\n",
       "      <th>City</th>\n",
       "      <th>Product</th>\n",
       "      <th>Price per Unit</th>\n",
       "      <th>Units Sold</th>\n",
       "      <th>Operating Profit</th>\n",
       "      <th>Operating Margin</th>\n",
       "      <th>Sales Method</th>\n",
       "    </tr>\n",
       "  </thead>\n",
       "  <tbody>\n",
       "    <tr>\n",
       "      <th>0</th>\n",
       "      <td>0.317142</td>\n",
       "      <td>-0.596042</td>\n",
       "      <td>-1.259686</td>\n",
       "      <td>-0.297704</td>\n",
       "      <td>0.355835</td>\n",
       "      <td>-0.311214</td>\n",
       "      <td>0.443757</td>\n",
       "      <td>0.862367</td>\n",
       "      <td>-0.739777</td>\n",
       "      <td>-1.629044</td>\n",
       "    </tr>\n",
       "    <tr>\n",
       "      <th>1</th>\n",
       "      <td>-0.907352</td>\n",
       "      <td>-0.596042</td>\n",
       "      <td>-1.168378</td>\n",
       "      <td>1.557407</td>\n",
       "      <td>-0.839922</td>\n",
       "      <td>0.368996</td>\n",
       "      <td>0.443757</td>\n",
       "      <td>0.972998</td>\n",
       "      <td>-0.739777</td>\n",
       "      <td>-1.629044</td>\n",
       "    </tr>\n",
       "    <tr>\n",
       "      <th>2</th>\n",
       "      <td>-0.907352</td>\n",
       "      <td>-0.596042</td>\n",
       "      <td>0.516048</td>\n",
       "      <td>0.650549</td>\n",
       "      <td>-0.212522</td>\n",
       "      <td>1.006989</td>\n",
       "      <td>2.457253</td>\n",
       "      <td>1.923333</td>\n",
       "      <td>0.805492</td>\n",
       "      <td>1.264031</td>\n",
       "    </tr>\n",
       "    <tr>\n",
       "      <th>3</th>\n",
       "      <td>-1.728671</td>\n",
       "      <td>0.728709</td>\n",
       "      <td>-0.455613</td>\n",
       "      <td>0.285909</td>\n",
       "      <td>-0.212522</td>\n",
       "      <td>0.236693</td>\n",
       "      <td>-0.396778</td>\n",
       "      <td>-0.428733</td>\n",
       "      <td>1.095579</td>\n",
       "      <td>-0.217749</td>\n",
       "    </tr>\n",
       "    <tr>\n",
       "      <th>4</th>\n",
       "      <td>1.295823</td>\n",
       "      <td>0.118131</td>\n",
       "      <td>0.749891</td>\n",
       "      <td>0.768664</td>\n",
       "      <td>-0.212522</td>\n",
       "      <td>-1.868088</td>\n",
       "      <td>-0.121173</td>\n",
       "      <td>-0.879408</td>\n",
       "      <td>0.509430</td>\n",
       "      <td>1.264031</td>\n",
       "    </tr>\n",
       "    <tr>\n",
       "      <th>...</th>\n",
       "      <td>...</td>\n",
       "      <td>...</td>\n",
       "      <td>...</td>\n",
       "      <td>...</td>\n",
       "      <td>...</td>\n",
       "      <td>...</td>\n",
       "      <td>...</td>\n",
       "      <td>...</td>\n",
       "      <td>...</td>\n",
       "      <td>...</td>\n",
       "    </tr>\n",
       "    <tr>\n",
       "      <th>7713</th>\n",
       "      <td>1.295823</td>\n",
       "      <td>1.272253</td>\n",
       "      <td>1.195872</td>\n",
       "      <td>1.226759</td>\n",
       "      <td>-0.839922</td>\n",
       "      <td>-1.956423</td>\n",
       "      <td>-0.759429</td>\n",
       "      <td>-1.209890</td>\n",
       "      <td>0.805492</td>\n",
       "      <td>-0.217749</td>\n",
       "    </tr>\n",
       "    <tr>\n",
       "      <th>7714</th>\n",
       "      <td>-0.907352</td>\n",
       "      <td>1.272253</td>\n",
       "      <td>-0.912567</td>\n",
       "      <td>-0.230175</td>\n",
       "      <td>-1.570925</td>\n",
       "      <td>0.692618</td>\n",
       "      <td>-1.863063</td>\n",
       "      <td>-1.599745</td>\n",
       "      <td>-1.753351</td>\n",
       "      <td>-0.217749</td>\n",
       "    </tr>\n",
       "    <tr>\n",
       "      <th>7715</th>\n",
       "      <td>-0.250910</td>\n",
       "      <td>-0.596042</td>\n",
       "      <td>0.516048</td>\n",
       "      <td>-2.000508</td>\n",
       "      <td>0.355835</td>\n",
       "      <td>1.552602</td>\n",
       "      <td>-0.060491</td>\n",
       "      <td>0.041889</td>\n",
       "      <td>2.111763</td>\n",
       "      <td>-0.217749</td>\n",
       "    </tr>\n",
       "    <tr>\n",
       "      <th>7716</th>\n",
       "      <td>-0.250910</td>\n",
       "      <td>-1.506614</td>\n",
       "      <td>-0.044918</td>\n",
       "      <td>0.530802</td>\n",
       "      <td>-0.212522</td>\n",
       "      <td>-0.671333</td>\n",
       "      <td>1.140287</td>\n",
       "      <td>1.187353</td>\n",
       "      <td>0.308615</td>\n",
       "      <td>1.264031</td>\n",
       "    </tr>\n",
       "    <tr>\n",
       "      <th>7717</th>\n",
       "      <td>-0.907352</td>\n",
       "      <td>-0.596042</td>\n",
       "      <td>-0.245704</td>\n",
       "      <td>-1.549017</td>\n",
       "      <td>-0.839922</td>\n",
       "      <td>-0.525453</td>\n",
       "      <td>-1.307487</td>\n",
       "      <td>-1.154557</td>\n",
       "      <td>0.409373</td>\n",
       "      <td>-0.217749</td>\n",
       "    </tr>\n",
       "  </tbody>\n",
       "</table>\n",
       "<p>7718 rows × 10 columns</p>\n",
       "</div>"
      ],
      "text/plain": [
       "      Retailer    Region     State      City   Product  Price per Unit  \\\n",
       "0     0.317142 -0.596042 -1.259686 -0.297704  0.355835       -0.311214   \n",
       "1    -0.907352 -0.596042 -1.168378  1.557407 -0.839922        0.368996   \n",
       "2    -0.907352 -0.596042  0.516048  0.650549 -0.212522        1.006989   \n",
       "3    -1.728671  0.728709 -0.455613  0.285909 -0.212522        0.236693   \n",
       "4     1.295823  0.118131  0.749891  0.768664 -0.212522       -1.868088   \n",
       "...        ...       ...       ...       ...       ...             ...   \n",
       "7713  1.295823  1.272253  1.195872  1.226759 -0.839922       -1.956423   \n",
       "7714 -0.907352  1.272253 -0.912567 -0.230175 -1.570925        0.692618   \n",
       "7715 -0.250910 -0.596042  0.516048 -2.000508  0.355835        1.552602   \n",
       "7716 -0.250910 -1.506614 -0.044918  0.530802 -0.212522       -0.671333   \n",
       "7717 -0.907352 -0.596042 -0.245704 -1.549017 -0.839922       -0.525453   \n",
       "\n",
       "      Units Sold  Operating Profit  Operating Margin  Sales Method  \n",
       "0       0.443757          0.862367         -0.739777     -1.629044  \n",
       "1       0.443757          0.972998         -0.739777     -1.629044  \n",
       "2       2.457253          1.923333          0.805492      1.264031  \n",
       "3      -0.396778         -0.428733          1.095579     -0.217749  \n",
       "4      -0.121173         -0.879408          0.509430      1.264031  \n",
       "...          ...               ...               ...           ...  \n",
       "7713   -0.759429         -1.209890          0.805492     -0.217749  \n",
       "7714   -1.863063         -1.599745         -1.753351     -0.217749  \n",
       "7715   -0.060491          0.041889          2.111763     -0.217749  \n",
       "7716    1.140287          1.187353          0.308615      1.264031  \n",
       "7717   -1.307487         -1.154557          0.409373     -0.217749  \n",
       "\n",
       "[7718 rows x 10 columns]"
      ]
     },
     "execution_count": 30,
     "metadata": {},
     "output_type": "execute_result"
    }
   ],
   "source": [
    "X_train_tf"
   ]
  },
  {
   "cell_type": "markdown",
   "id": "09620ebf",
   "metadata": {
    "papermill": {
     "duration": 0.028848,
     "end_time": "2025-01-11T12:36:14.925126",
     "exception": false,
     "start_time": "2025-01-11T12:36:14.896278",
     "status": "completed"
    },
    "tags": []
   },
   "source": [
    "### Linear Regression"
   ]
  },
  {
   "cell_type": "code",
   "execution_count": 31,
   "id": "4e235d06",
   "metadata": {
    "execution": {
     "iopub.execute_input": "2025-01-11T12:36:14.980897Z",
     "iopub.status.busy": "2025-01-11T12:36:14.980408Z",
     "iopub.status.idle": "2025-01-11T12:36:15.023972Z",
     "shell.execute_reply": "2025-01-11T12:36:15.021667Z"
    },
    "papermill": {
     "duration": 0.07941,
     "end_time": "2025-01-11T12:36:15.031849",
     "exception": false,
     "start_time": "2025-01-11T12:36:14.952439",
     "status": "completed"
    },
    "tags": []
   },
   "outputs": [
    {
     "name": "stderr",
     "output_type": "stream",
     "text": [
      "/usr/local/lib/python3.10/dist-packages/sklearn/base.py:439: UserWarning: X does not have valid feature names, but LinearRegression was fitted with feature names\n",
      "  warnings.warn(\n"
     ]
    },
    {
     "data": {
      "text/plain": [
       "0.7226642999514159"
      ]
     },
     "execution_count": 31,
     "metadata": {},
     "output_type": "execute_result"
    }
   ],
   "source": [
    "lr = LinearRegression()\n",
    "lr.fit(X_train_tf,y_train)\n",
    "\n",
    "y_pred = lr.predict(X_test_tf)\n",
    "\n",
    "r2 = r2_score(y_test,y_pred)\n",
    "r2"
   ]
  },
  {
   "cell_type": "markdown",
   "id": "ad522478",
   "metadata": {
    "papermill": {
     "duration": 0.026484,
     "end_time": "2025-01-11T12:36:15.162442",
     "exception": false,
     "start_time": "2025-01-11T12:36:15.135958",
     "status": "completed"
    },
    "tags": []
   },
   "source": [
    "### Xgboost Regressor"
   ]
  },
  {
   "cell_type": "code",
   "execution_count": 32,
   "id": "cc953844",
   "metadata": {
    "execution": {
     "iopub.execute_input": "2025-01-11T12:36:15.217861Z",
     "iopub.status.busy": "2025-01-11T12:36:15.217477Z",
     "iopub.status.idle": "2025-01-11T12:36:15.393322Z",
     "shell.execute_reply": "2025-01-11T12:36:15.390609Z"
    },
    "papermill": {
     "duration": 0.206699,
     "end_time": "2025-01-11T12:36:15.395689",
     "exception": false,
     "start_time": "2025-01-11T12:36:15.188990",
     "status": "completed"
    },
    "tags": []
   },
   "outputs": [
    {
     "name": "stdout",
     "output_type": "stream",
     "text": [
      "R2 Score =>  0.99910576452601\n"
     ]
    }
   ],
   "source": [
    "xgb_model = XGBRegressor()\n",
    "\n",
    "xgb_model.fit(X_train_tf,y_train)\n",
    "\n",
    "y_pred_xg = xgb_model.predict(X_test_tf)\n",
    "\n",
    "print(\"R2 Score => \",r2_score(y_test,y_pred_xg))"
   ]
  },
  {
   "cell_type": "markdown",
   "id": "9226658b",
   "metadata": {
    "papermill": {
     "duration": 0.027984,
     "end_time": "2025-01-11T12:36:15.453671",
     "exception": false,
     "start_time": "2025-01-11T12:36:15.425687",
     "status": "completed"
    },
    "tags": []
   },
   "source": [
    "### LGBM Regressor"
   ]
  },
  {
   "cell_type": "code",
   "execution_count": 33,
   "id": "65a77376",
   "metadata": {
    "execution": {
     "iopub.execute_input": "2025-01-11T12:36:15.509189Z",
     "iopub.status.busy": "2025-01-11T12:36:15.508841Z",
     "iopub.status.idle": "2025-01-11T12:36:15.693573Z",
     "shell.execute_reply": "2025-01-11T12:36:15.692145Z"
    },
    "papermill": {
     "duration": 0.214695,
     "end_time": "2025-01-11T12:36:15.695282",
     "exception": false,
     "start_time": "2025-01-11T12:36:15.480587",
     "status": "completed"
    },
    "tags": []
   },
   "outputs": [
    {
     "name": "stdout",
     "output_type": "stream",
     "text": [
      "[LightGBM] [Warning] Found whitespace in feature_names, replace with underlines\n",
      "[LightGBM] [Info] Auto-choosing col-wise multi-threading, the overhead of testing was 0.003895 seconds.\n",
      "You can set `force_col_wise=true` to remove the overhead.\n",
      "[LightGBM] [Info] Total Bins 795\n",
      "[LightGBM] [Info] Number of data points in the train set: 7718, number of used features: 10\n",
      "[LightGBM] [Info] Start training from score 93351.135786\n",
      "R2 Score =>  0.9992281989636126\n"
     ]
    }
   ],
   "source": [
    "lgbm_model = LGBMRegressor()\n",
    "\n",
    "lgbm_model.fit(X_train_tf,y_train)\n",
    "\n",
    "y_pred_lg = lgbm_model.predict(X_test_tf)\n",
    "\n",
    "print(\"R2 Score => \",r2_score(y_test,y_pred_lg))"
   ]
  },
  {
   "cell_type": "markdown",
   "id": "ceb64a19",
   "metadata": {
    "papermill": {
     "duration": 0.027394,
     "end_time": "2025-01-11T12:36:15.750730",
     "exception": false,
     "start_time": "2025-01-11T12:36:15.723336",
     "status": "completed"
    },
    "tags": []
   },
   "source": [
    "### Gradient Boosting Regressor"
   ]
  },
  {
   "cell_type": "code",
   "execution_count": 34,
   "id": "93d3426d",
   "metadata": {
    "execution": {
     "iopub.execute_input": "2025-01-11T12:36:15.807026Z",
     "iopub.status.busy": "2025-01-11T12:36:15.806655Z",
     "iopub.status.idle": "2025-01-11T12:36:16.840154Z",
     "shell.execute_reply": "2025-01-11T12:36:16.838787Z"
    },
    "papermill": {
     "duration": 1.063927,
     "end_time": "2025-01-11T12:36:16.841980",
     "exception": false,
     "start_time": "2025-01-11T12:36:15.778053",
     "status": "completed"
    },
    "tags": []
   },
   "outputs": [
    {
     "name": "stderr",
     "output_type": "stream",
     "text": [
      "/usr/local/lib/python3.10/dist-packages/sklearn/base.py:439: UserWarning: X does not have valid feature names, but GradientBoostingRegressor was fitted with feature names\n",
      "  warnings.warn(\n"
     ]
    },
    {
     "data": {
      "text/plain": [
       "0.9983989141985972"
      ]
     },
     "execution_count": 34,
     "metadata": {},
     "output_type": "execute_result"
    }
   ],
   "source": [
    "from sklearn.ensemble import GradientBoostingRegressor\n",
    "\n",
    "GB = GradientBoostingRegressor()\n",
    "GB.fit(X_train_tf,y_train)\n",
    "\n",
    "y_pred_gb = GB.predict(X_test_tf)\n",
    "\n",
    "r2_score(y_test,y_pred_gb)"
   ]
  },
  {
   "cell_type": "code",
   "execution_count": 35,
   "id": "33d184a2",
   "metadata": {
    "execution": {
     "iopub.execute_input": "2025-01-11T12:36:16.897871Z",
     "iopub.status.busy": "2025-01-11T12:36:16.897487Z",
     "iopub.status.idle": "2025-01-11T12:36:18.349900Z",
     "shell.execute_reply": "2025-01-11T12:36:18.349105Z"
    },
    "papermill": {
     "duration": 1.482143,
     "end_time": "2025-01-11T12:36:18.351274",
     "exception": false,
     "start_time": "2025-01-11T12:36:16.869131",
     "status": "completed"
    },
    "tags": []
   },
   "outputs": [
    {
     "name": "stdout",
     "output_type": "stream",
     "text": [
      "[LightGBM] [Warning] Found whitespace in feature_names, replace with underlines\n",
      "[LightGBM] [Info] Auto-choosing col-wise multi-threading, the overhead of testing was 0.000911 seconds.\n",
      "You can set `force_col_wise=true` to remove the overhead.\n",
      "[LightGBM] [Info] Total Bins 795\n",
      "[LightGBM] [Info] Number of data points in the train set: 7718, number of used features: 10\n",
      "[LightGBM] [Info] Start training from score 93351.135786\n",
      "[LightGBM] [Warning] Found whitespace in feature_names, replace with underlines\n",
      "[LightGBM] [Info] Auto-choosing col-wise multi-threading, the overhead of testing was 0.000855 seconds.\n",
      "You can set `force_col_wise=true` to remove the overhead.\n",
      "[LightGBM] [Info] Total Bins 787\n",
      "[LightGBM] [Info] Number of data points in the train set: 6174, number of used features: 10\n",
      "[LightGBM] [Info] Start training from score 92967.115970\n",
      "[LightGBM] [Warning] Found whitespace in feature_names, replace with underlines\n",
      "[LightGBM] [Info] Auto-choosing col-wise multi-threading, the overhead of testing was 0.000653 seconds.\n",
      "You can set `force_col_wise=true` to remove the overhead.\n",
      "[LightGBM] [Info] Total Bins 792\n",
      "[LightGBM] [Info] Number of data points in the train set: 6174, number of used features: 10\n",
      "[LightGBM] [Info] Start training from score 93030.166829\n",
      "[LightGBM] [Warning] Found whitespace in feature_names, replace with underlines\n",
      "[LightGBM] [Info] Auto-choosing col-wise multi-threading, the overhead of testing was 0.000575 seconds.\n",
      "You can set `force_col_wise=true` to remove the overhead.\n",
      "[LightGBM] [Info] Total Bins 790\n",
      "[LightGBM] [Info] Number of data points in the train set: 6174, number of used features: 10\n",
      "[LightGBM] [Info] Start training from score 93412.705215\n",
      "[LightGBM] [Warning] Found whitespace in feature_names, replace with underlines\n",
      "[LightGBM] [Info] Auto-choosing col-wise multi-threading, the overhead of testing was 0.000487 seconds.\n",
      "You can set `force_col_wise=true` to remove the overhead.\n",
      "[LightGBM] [Info] Total Bins 791\n",
      "[LightGBM] [Info] Number of data points in the train set: 6175, number of used features: 10\n",
      "[LightGBM] [Info] Start training from score 94071.637571\n",
      "[LightGBM] [Warning] Found whitespace in feature_names, replace with underlines\n",
      "[LightGBM] [Info] Auto-choosing col-wise multi-threading, the overhead of testing was 0.000561 seconds.\n",
      "You can set `force_col_wise=true` to remove the overhead.\n",
      "[LightGBM] [Info] Total Bins 791\n",
      "[LightGBM] [Info] Number of data points in the train set: 6175, number of used features: 10\n",
      "[LightGBM] [Info] Start training from score 93273.949150\n"
     ]
    },
    {
     "data": {
      "text/plain": [
       "0.9994179762267819"
      ]
     },
     "execution_count": 35,
     "metadata": {},
     "output_type": "execute_result"
    }
   ],
   "source": [
    "from sklearn.ensemble import StackingRegressor\n",
    "\n",
    "# Create base models\n",
    "base_models = [\n",
    "    (\"lgbm\", lgbm_model),\n",
    "    (\"xgb\", xgb_model)\n",
    "]\n",
    "\n",
    "# Create the stacking regressor\n",
    "stacking_regressor = StackingRegressor(estimators=base_models, final_estimator=LinearRegression())\n",
    "\n",
    "# Fit the stacking regressor to the entire training set\n",
    "stacking_regressor.fit(X_train_tf, y_train)\n",
    "\n",
    "# Make predictions on new data\n",
    "y_pred_stacked = stacking_regressor.predict(X_test_tf)\n",
    "r2_score(y_test,y_pred_stacked)"
   ]
  },
  {
   "cell_type": "markdown",
   "id": "2bba7145",
   "metadata": {
    "papermill": {
     "duration": 0.027226,
     "end_time": "2025-01-11T12:36:18.409474",
     "exception": false,
     "start_time": "2025-01-11T12:36:18.382248",
     "status": "completed"
    },
    "tags": []
   },
   "source": [
    "## Unified Pipeline\n",
    "- Implement all preprocessing, model training, and prediction steps in a single pipeline for efficient and consistent handling of data transformations and predictions. This ensures seamless model evaluation, prediction and deployment.\n"
   ]
  },
  {
   "cell_type": "code",
   "execution_count": 36,
   "id": "8ecd8213",
   "metadata": {
    "execution": {
     "iopub.execute_input": "2025-01-11T12:36:18.467090Z",
     "iopub.status.busy": "2025-01-11T12:36:18.466737Z",
     "iopub.status.idle": "2025-01-11T12:36:21.810716Z",
     "shell.execute_reply": "2025-01-11T12:36:21.809654Z"
    },
    "papermill": {
     "duration": 3.376119,
     "end_time": "2025-01-11T12:36:21.813157",
     "exception": false,
     "start_time": "2025-01-11T12:36:18.437038",
     "status": "completed"
    },
    "tags": []
   },
   "outputs": [
    {
     "name": "stdout",
     "output_type": "stream",
     "text": [
      "[LightGBM] [Info] Auto-choosing col-wise multi-threading, the overhead of testing was 0.000399 seconds.\n",
      "You can set `force_col_wise=true` to remove the overhead.\n",
      "[LightGBM] [Info] Total Bins 899\n",
      "[LightGBM] [Info] Number of data points in the train set: 7718, number of used features: 120\n",
      "[LightGBM] [Info] Start training from score 93351.135786\n",
      "[LightGBM] [Info] Auto-choosing col-wise multi-threading, the overhead of testing was 0.000328 seconds.\n",
      "You can set `force_col_wise=true` to remove the overhead.\n",
      "[LightGBM] [Info] Total Bins 891\n",
      "[LightGBM] [Info] Number of data points in the train set: 6174, number of used features: 120\n",
      "[LightGBM] [Info] Start training from score 92967.115970\n",
      "[LightGBM] [Info] Auto-choosing col-wise multi-threading, the overhead of testing was 0.000341 seconds.\n",
      "You can set `force_col_wise=true` to remove the overhead.\n",
      "[LightGBM] [Info] Total Bins 896\n",
      "[LightGBM] [Info] Number of data points in the train set: 6174, number of used features: 120\n",
      "[LightGBM] [Info] Start training from score 93030.166829\n",
      "[LightGBM] [Info] Auto-choosing row-wise multi-threading, the overhead of testing was 0.000116 seconds.\n",
      "You can set `force_row_wise=true` to remove the overhead.\n",
      "And if memory is not enough, you can set `force_col_wise=true`.\n",
      "[LightGBM] [Info] Total Bins 894\n",
      "[LightGBM] [Info] Number of data points in the train set: 6174, number of used features: 120\n",
      "[LightGBM] [Info] Start training from score 93412.705215\n",
      "[LightGBM] [Info] Auto-choosing col-wise multi-threading, the overhead of testing was 0.000634 seconds.\n",
      "You can set `force_col_wise=true` to remove the overhead.\n",
      "[LightGBM] [Info] Total Bins 895\n",
      "[LightGBM] [Info] Number of data points in the train set: 6175, number of used features: 120\n",
      "[LightGBM] [Info] Start training from score 94071.637571\n",
      "[LightGBM] [Info] Auto-choosing col-wise multi-threading, the overhead of testing was 0.000381 seconds.\n",
      "You can set `force_col_wise=true` to remove the overhead.\n",
      "[LightGBM] [Info] Total Bins 895\n",
      "[LightGBM] [Info] Number of data points in the train set: 6175, number of used features: 120\n",
      "[LightGBM] [Info] Start training from score 93273.949150\n",
      "R-squared Score: 0.9994044102280395\n"
     ]
    }
   ],
   "source": [
    "from sklearn.compose import ColumnTransformer\n",
    "from sklearn.pipeline import Pipeline\n",
    "from sklearn.preprocessing import PowerTransformer, StandardScaler, OneHotEncoder\n",
    "from sklearn.model_selection import train_test_split\n",
    "from sklearn.ensemble import StackingRegressor\n",
    "from sklearn.linear_model import LinearRegression\n",
    "from sklearn.metrics import r2_score\n",
    "from lightgbm import LGBMRegressor\n",
    "from xgboost import XGBRegressor\n",
    "\n",
    "# Define the dataset\n",
    "df1 = df.copy()\n",
    "df1.dropna(inplace=True)\n",
    "\n",
    "# Define the features (X) and target (y)\n",
    "X = df1.drop(columns=['Total Sales'])  # Features\n",
    "y = df1['Total Sales']  # Target\n",
    "\n",
    "# Split the dataset into training and testing sets\n",
    "X_train, X_test, y_train, y_test = train_test_split(X, y, test_size=0.2, random_state=42)\n",
    "\n",
    "# Define numerical and categorical columns\n",
    "numerical_cols = ['Price per Unit', 'Units Sold', 'Operating Profit', 'Operating Margin']\n",
    "categorical_cols = ['Region', 'State', 'City', 'Product', 'Sales Method']\n",
    "\n",
    "# Create the preprocessing pipeline\n",
    "preprocessor = ColumnTransformer(\n",
    "    transformers=[\n",
    "        ('num', Pipeline([\n",
    "            ('power_transformer', PowerTransformer()),  # Apply PowerTransformer\n",
    "            ('scaler', StandardScaler())  # Scale numerical features\n",
    "        ]), numerical_cols),\n",
    "        ('cat', Pipeline([\n",
    "            ('onehot', OneHotEncoder(handle_unknown='ignore'))  # One-hot encode categorical features\n",
    "        ]), categorical_cols)\n",
    "    ]\n",
    ")\n",
    "\n",
    "# Define base models for stacking\n",
    "lgbm_model = LGBMRegressor(random_state=42)\n",
    "xgb_model = XGBRegressor(random_state=42)\n",
    "\n",
    "# Create stacking regressor\n",
    "stacking_regressor = StackingRegressor(\n",
    "    estimators=[\n",
    "        ('lgbm', lgbm_model),\n",
    "        ('xgb', xgb_model)\n",
    "    ],\n",
    "    final_estimator=LinearRegression()\n",
    ")\n",
    "\n",
    "# Build the unified pipeline\n",
    "pipeline = Pipeline([\n",
    "    ('preprocessor', preprocessor),  # Preprocessing pipeline\n",
    "    ('stacking', stacking_regressor)  # Stacking regressor\n",
    "])\n",
    "\n",
    "# Train the unified pipeline\n",
    "pipeline.fit(X_train, y_train)\n",
    "\n",
    "# Make predictions on the test set\n",
    "y_pred = pipeline.predict(X_test)\n",
    "\n",
    "# Evaluate the model using R-squared\n",
    "r2 = r2_score(y_test, y_pred)\n",
    "print(\"R-squared Score:\", r2)"
   ]
  },
  {
   "cell_type": "markdown",
   "id": "021f07f9",
   "metadata": {
    "papermill": {
     "duration": 0.028158,
     "end_time": "2025-01-11T12:36:21.871590",
     "exception": false,
     "start_time": "2025-01-11T12:36:21.843432",
     "status": "completed"
    },
    "tags": []
   },
   "source": [
    "## Testing our Model\n",
    "- **Region**: Northeast\n",
    "- **State**: New York\n",
    "- **City**: New York\n",
    "- **Product**: Men's Street Footwear\n",
    "- **Price per Unit**: 50.0\n",
    "- **Units Sold**: 1200\n",
    "- **Operating Profit**: 300000.0\n",
    "- **Operating Margin**: 0.50\n",
    "- **Sales Method**: In-store\n",
    "\n",
    "- **Actual Total Sales:** 600000.0"
   ]
  },
  {
   "cell_type": "code",
   "execution_count": 37,
   "id": "022ccf04",
   "metadata": {
    "execution": {
     "iopub.execute_input": "2025-01-11T12:36:21.930216Z",
     "iopub.status.busy": "2025-01-11T12:36:21.929868Z",
     "iopub.status.idle": "2025-01-11T12:36:21.952574Z",
     "shell.execute_reply": "2025-01-11T12:36:21.951444Z"
    },
    "papermill": {
     "duration": 0.058543,
     "end_time": "2025-01-11T12:36:21.957604",
     "exception": false,
     "start_time": "2025-01-11T12:36:21.899061",
     "status": "completed"
    },
    "tags": []
   },
   "outputs": [
    {
     "name": "stdout",
     "output_type": "stream",
     "text": [
      "Predicted Total Sales: [607471.61]\n"
     ]
    }
   ],
   "source": [
    "# New data for prediction\n",
    "new_data = pd.DataFrame({\n",
    "    'Region': ['Northeast'],\n",
    "    'State': ['New York'],\n",
    "    'City': ['New York'],\n",
    "    'Product': ['Men\\'s Street Footwear'],\n",
    "    'Price per Unit': [50.0],\n",
    "    'Units Sold': [1200],\n",
    "    'Operating Profit': [300000.0],\n",
    "    'Operating Margin': [0.50],\n",
    "    'Sales Method': ['In-store']\n",
    "})\n",
    "\n",
    "# Step 1: Use the pipeline to make predictions\n",
    "predictions = pipeline.predict(new_data)\n",
    "\n",
    "predictions_rounded = [round(pred, 2) for pred in predictions]\n",
    "print(\"Predicted Total Sales:\", predictions_rounded)\n"
   ]
  }
 ],
 "metadata": {
  "kaggle": {
   "accelerator": "none",
   "dataSources": [
    {
     "datasetId": 6444675,
     "sourceId": 10401027,
     "sourceType": "datasetVersion"
    }
   ],
   "dockerImageVersionId": 30822,
   "isGpuEnabled": false,
   "isInternetEnabled": true,
   "language": "python",
   "sourceType": "notebook"
  },
  "kernelspec": {
   "display_name": "Python 3",
   "language": "python",
   "name": "python3"
  },
  "language_info": {
   "codemirror_mode": {
    "name": "ipython",
    "version": 3
   },
   "file_extension": ".py",
   "mimetype": "text/x-python",
   "name": "python",
   "nbconvert_exporter": "python",
   "pygments_lexer": "ipython3",
   "version": "3.10.12"
  },
  "papermill": {
   "default_parameters": {},
   "duration": 28.431915,
   "end_time": "2025-01-11T12:36:23.109782",
   "environment_variables": {},
   "exception": null,
   "input_path": "__notebook__.ipynb",
   "output_path": "__notebook__.ipynb",
   "parameters": {},
   "start_time": "2025-01-11T12:35:54.677867",
   "version": "2.6.0"
  }
 },
 "nbformat": 4,
 "nbformat_minor": 5
}
